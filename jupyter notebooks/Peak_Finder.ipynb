{
  "nbformat": 4,
  "nbformat_minor": 0,
  "metadata": {
    "colab": {
      "name": "Peak_Finder",
      "provenance": [],
      "collapsed_sections": [],
      "include_colab_link": true
    },
    "kernelspec": {
      "name": "python3",
      "display_name": "Python 3"
    }
  },
  "cells": [
    {
      "cell_type": "markdown",
      "metadata": {
        "id": "view-in-github",
        "colab_type": "text"
      },
      "source": [
        "<a href=\"https://colab.research.google.com/github/aravindann92/Electrochemical-Data-Analyzer/blob/main/Peak_Finder.ipynb\" target=\"_parent\"><img src=\"https://colab.research.google.com/assets/colab-badge.svg\" alt=\"Open In Colab\"/></a>"
      ]
    },
    {
      "cell_type": "code",
      "metadata": {
        "id": "xiqrlwMUfzev",
        "outputId": "4bcb3bcb-0bc2-44b9-f064-c40b43b7ed0a",
        "colab": {
          "base_uri": "https://localhost:8080/"
        }
      },
      "source": [
        "from google.colab import drive\n",
        "drive.mount('/content/drive')"
      ],
      "execution_count": null,
      "outputs": [
        {
          "output_type": "stream",
          "name": "stdout",
          "text": [
            "Mounted at /content/drive\n"
          ]
        }
      ]
    },
    {
      "cell_type": "code",
      "metadata": {
        "id": "xsOJsE-1gQtp"
      },
      "source": [
        "import numpy as np\n",
        "import pandas as pd\n",
        "import scipy\n",
        "import os\n",
        "import seaborn as sns\n",
        "import matplotlib as mpl\n",
        "import matplotlib.pyplot as plt\n",
        "\n",
        "%matplotlib inline"
      ],
      "execution_count": null,
      "outputs": []
    },
    {
      "cell_type": "code",
      "metadata": {
        "id": "wkZLQFLxft17",
        "outputId": "53258fd7-a7f2-4c40-8cf5-c632f460141e",
        "colab": {
          "base_uri": "https://localhost:8080/",
          "height": 206
        }
      },
      "source": [
        "# Read the data into data frame\n",
        "data = pd.read_csv(\"/content/drive/My Drive/Colab Notebooks/Peak Finder Project/1_mu_M.txt\", delimiter=',')\n",
        "data.head()"
      ],
      "execution_count": null,
      "outputs": [
        {
          "output_type": "execute_result",
          "data": {
            "text/plain": [
              "   Potential applied (V)  WE(1).Base.Potential (V)  WE(1).Base.Current (A)  \\\n",
              "0              -0.099945                 -0.099670               -0.000026   \n",
              "1              -0.094910                 -0.094727               -0.000023   \n",
              "2              -0.089874                 -0.089630               -0.000021   \n",
              "3              -0.084839                 -0.084656               -0.000020   \n",
              "4              -0.079803                 -0.079651               -0.000018   \n",
              "\n",
              "   WE(1).Pulse.Current (A)  WE(1).δ.Current (A)  \n",
              "0                 0.000083             0.000109  \n",
              "1                 0.000085             0.000108  \n",
              "2                 0.000087             0.000108  \n",
              "3                 0.000088             0.000107  \n",
              "4                 0.000089             0.000107  "
            ],
            "text/html": [
              "\n",
              "  <div id=\"df-2aa7a9f6-e2d9-46fa-9aea-4e4d6e946e22\">\n",
              "    <div class=\"colab-df-container\">\n",
              "      <div>\n",
              "<style scoped>\n",
              "    .dataframe tbody tr th:only-of-type {\n",
              "        vertical-align: middle;\n",
              "    }\n",
              "\n",
              "    .dataframe tbody tr th {\n",
              "        vertical-align: top;\n",
              "    }\n",
              "\n",
              "    .dataframe thead th {\n",
              "        text-align: right;\n",
              "    }\n",
              "</style>\n",
              "<table border=\"1\" class=\"dataframe\">\n",
              "  <thead>\n",
              "    <tr style=\"text-align: right;\">\n",
              "      <th></th>\n",
              "      <th>Potential applied (V)</th>\n",
              "      <th>WE(1).Base.Potential (V)</th>\n",
              "      <th>WE(1).Base.Current (A)</th>\n",
              "      <th>WE(1).Pulse.Current (A)</th>\n",
              "      <th>WE(1).δ.Current (A)</th>\n",
              "    </tr>\n",
              "  </thead>\n",
              "  <tbody>\n",
              "    <tr>\n",
              "      <th>0</th>\n",
              "      <td>-0.099945</td>\n",
              "      <td>-0.099670</td>\n",
              "      <td>-0.000026</td>\n",
              "      <td>0.000083</td>\n",
              "      <td>0.000109</td>\n",
              "    </tr>\n",
              "    <tr>\n",
              "      <th>1</th>\n",
              "      <td>-0.094910</td>\n",
              "      <td>-0.094727</td>\n",
              "      <td>-0.000023</td>\n",
              "      <td>0.000085</td>\n",
              "      <td>0.000108</td>\n",
              "    </tr>\n",
              "    <tr>\n",
              "      <th>2</th>\n",
              "      <td>-0.089874</td>\n",
              "      <td>-0.089630</td>\n",
              "      <td>-0.000021</td>\n",
              "      <td>0.000087</td>\n",
              "      <td>0.000108</td>\n",
              "    </tr>\n",
              "    <tr>\n",
              "      <th>3</th>\n",
              "      <td>-0.084839</td>\n",
              "      <td>-0.084656</td>\n",
              "      <td>-0.000020</td>\n",
              "      <td>0.000088</td>\n",
              "      <td>0.000107</td>\n",
              "    </tr>\n",
              "    <tr>\n",
              "      <th>4</th>\n",
              "      <td>-0.079803</td>\n",
              "      <td>-0.079651</td>\n",
              "      <td>-0.000018</td>\n",
              "      <td>0.000089</td>\n",
              "      <td>0.000107</td>\n",
              "    </tr>\n",
              "  </tbody>\n",
              "</table>\n",
              "</div>\n",
              "      <button class=\"colab-df-convert\" onclick=\"convertToInteractive('df-2aa7a9f6-e2d9-46fa-9aea-4e4d6e946e22')\"\n",
              "              title=\"Convert this dataframe to an interactive table.\"\n",
              "              style=\"display:none;\">\n",
              "        \n",
              "  <svg xmlns=\"http://www.w3.org/2000/svg\" height=\"24px\"viewBox=\"0 0 24 24\"\n",
              "       width=\"24px\">\n",
              "    <path d=\"M0 0h24v24H0V0z\" fill=\"none\"/>\n",
              "    <path d=\"M18.56 5.44l.94 2.06.94-2.06 2.06-.94-2.06-.94-.94-2.06-.94 2.06-2.06.94zm-11 1L8.5 8.5l.94-2.06 2.06-.94-2.06-.94L8.5 2.5l-.94 2.06-2.06.94zm10 10l.94 2.06.94-2.06 2.06-.94-2.06-.94-.94-2.06-.94 2.06-2.06.94z\"/><path d=\"M17.41 7.96l-1.37-1.37c-.4-.4-.92-.59-1.43-.59-.52 0-1.04.2-1.43.59L10.3 9.45l-7.72 7.72c-.78.78-.78 2.05 0 2.83L4 21.41c.39.39.9.59 1.41.59.51 0 1.02-.2 1.41-.59l7.78-7.78 2.81-2.81c.8-.78.8-2.07 0-2.86zM5.41 20L4 18.59l7.72-7.72 1.47 1.35L5.41 20z\"/>\n",
              "  </svg>\n",
              "      </button>\n",
              "      \n",
              "  <style>\n",
              "    .colab-df-container {\n",
              "      display:flex;\n",
              "      flex-wrap:wrap;\n",
              "      gap: 12px;\n",
              "    }\n",
              "\n",
              "    .colab-df-convert {\n",
              "      background-color: #E8F0FE;\n",
              "      border: none;\n",
              "      border-radius: 50%;\n",
              "      cursor: pointer;\n",
              "      display: none;\n",
              "      fill: #1967D2;\n",
              "      height: 32px;\n",
              "      padding: 0 0 0 0;\n",
              "      width: 32px;\n",
              "    }\n",
              "\n",
              "    .colab-df-convert:hover {\n",
              "      background-color: #E2EBFA;\n",
              "      box-shadow: 0px 1px 2px rgba(60, 64, 67, 0.3), 0px 1px 3px 1px rgba(60, 64, 67, 0.15);\n",
              "      fill: #174EA6;\n",
              "    }\n",
              "\n",
              "    [theme=dark] .colab-df-convert {\n",
              "      background-color: #3B4455;\n",
              "      fill: #D2E3FC;\n",
              "    }\n",
              "\n",
              "    [theme=dark] .colab-df-convert:hover {\n",
              "      background-color: #434B5C;\n",
              "      box-shadow: 0px 1px 3px 1px rgba(0, 0, 0, 0.15);\n",
              "      filter: drop-shadow(0px 1px 2px rgba(0, 0, 0, 0.3));\n",
              "      fill: #FFFFFF;\n",
              "    }\n",
              "  </style>\n",
              "\n",
              "      <script>\n",
              "        const buttonEl =\n",
              "          document.querySelector('#df-2aa7a9f6-e2d9-46fa-9aea-4e4d6e946e22 button.colab-df-convert');\n",
              "        buttonEl.style.display =\n",
              "          google.colab.kernel.accessAllowed ? 'block' : 'none';\n",
              "\n",
              "        async function convertToInteractive(key) {\n",
              "          const element = document.querySelector('#df-2aa7a9f6-e2d9-46fa-9aea-4e4d6e946e22');\n",
              "          const dataTable =\n",
              "            await google.colab.kernel.invokeFunction('convertToInteractive',\n",
              "                                                     [key], {});\n",
              "          if (!dataTable) return;\n",
              "\n",
              "          const docLinkHtml = 'Like what you see? Visit the ' +\n",
              "            '<a target=\"_blank\" href=https://colab.research.google.com/notebooks/data_table.ipynb>data table notebook</a>'\n",
              "            + ' to learn more about interactive tables.';\n",
              "          element.innerHTML = '';\n",
              "          dataTable['output_type'] = 'display_data';\n",
              "          await google.colab.output.renderOutput(dataTable, element);\n",
              "          const docLink = document.createElement('div');\n",
              "          docLink.innerHTML = docLinkHtml;\n",
              "          element.appendChild(docLink);\n",
              "        }\n",
              "      </script>\n",
              "    </div>\n",
              "  </div>\n",
              "  "
            ]
          },
          "metadata": {},
          "execution_count": 3
        }
      ]
    },
    {
      "cell_type": "code",
      "metadata": {
        "id": "zFLzV-rtgfNK",
        "outputId": "f6485116-d4f1-4345-e6aa-2fb664f999a6",
        "colab": {
          "base_uri": "https://localhost:8080/"
        }
      },
      "source": [
        "# Get the column names\n",
        "data.columns"
      ],
      "execution_count": null,
      "outputs": [
        {
          "output_type": "execute_result",
          "data": {
            "text/plain": [
              "Index(['Potential applied (V)', 'WE(1).Base.Potential (V)',\n",
              "       'WE(1).Base.Current (A)', 'WE(1).Pulse.Current (A)',\n",
              "       'WE(1).δ.Current (A)'],\n",
              "      dtype='object')"
            ]
          },
          "metadata": {},
          "execution_count": 4
        }
      ]
    },
    {
      "cell_type": "code",
      "metadata": {
        "id": "-KV0-ZQigi-y",
        "outputId": "600c513c-f5f1-4384-c436-e03c356244f5",
        "colab": {
          "base_uri": "https://localhost:8080/",
          "height": 206
        }
      },
      "source": [
        "# Strip the potential and current data into separate data frames and merge into a new data frame\n",
        "potential = pd.DataFrame(data[\"Potential applied (V)\"])\n",
        "current = pd.DataFrame(data[\"WE(1).δ.Current (A)\"])\n",
        "mod_data = pd.concat([potential, current], axis=1)\n",
        "mod_data.head()"
      ],
      "execution_count": null,
      "outputs": [
        {
          "output_type": "execute_result",
          "data": {
            "text/plain": [
              "   Potential applied (V)  WE(1).δ.Current (A)\n",
              "0              -0.099945             0.000109\n",
              "1              -0.094910             0.000108\n",
              "2              -0.089874             0.000108\n",
              "3              -0.084839             0.000107\n",
              "4              -0.079803             0.000107"
            ],
            "text/html": [
              "\n",
              "  <div id=\"df-2af65f62-c191-429f-9cd3-1833f90ee1e1\">\n",
              "    <div class=\"colab-df-container\">\n",
              "      <div>\n",
              "<style scoped>\n",
              "    .dataframe tbody tr th:only-of-type {\n",
              "        vertical-align: middle;\n",
              "    }\n",
              "\n",
              "    .dataframe tbody tr th {\n",
              "        vertical-align: top;\n",
              "    }\n",
              "\n",
              "    .dataframe thead th {\n",
              "        text-align: right;\n",
              "    }\n",
              "</style>\n",
              "<table border=\"1\" class=\"dataframe\">\n",
              "  <thead>\n",
              "    <tr style=\"text-align: right;\">\n",
              "      <th></th>\n",
              "      <th>Potential applied (V)</th>\n",
              "      <th>WE(1).δ.Current (A)</th>\n",
              "    </tr>\n",
              "  </thead>\n",
              "  <tbody>\n",
              "    <tr>\n",
              "      <th>0</th>\n",
              "      <td>-0.099945</td>\n",
              "      <td>0.000109</td>\n",
              "    </tr>\n",
              "    <tr>\n",
              "      <th>1</th>\n",
              "      <td>-0.094910</td>\n",
              "      <td>0.000108</td>\n",
              "    </tr>\n",
              "    <tr>\n",
              "      <th>2</th>\n",
              "      <td>-0.089874</td>\n",
              "      <td>0.000108</td>\n",
              "    </tr>\n",
              "    <tr>\n",
              "      <th>3</th>\n",
              "      <td>-0.084839</td>\n",
              "      <td>0.000107</td>\n",
              "    </tr>\n",
              "    <tr>\n",
              "      <th>4</th>\n",
              "      <td>-0.079803</td>\n",
              "      <td>0.000107</td>\n",
              "    </tr>\n",
              "  </tbody>\n",
              "</table>\n",
              "</div>\n",
              "      <button class=\"colab-df-convert\" onclick=\"convertToInteractive('df-2af65f62-c191-429f-9cd3-1833f90ee1e1')\"\n",
              "              title=\"Convert this dataframe to an interactive table.\"\n",
              "              style=\"display:none;\">\n",
              "        \n",
              "  <svg xmlns=\"http://www.w3.org/2000/svg\" height=\"24px\"viewBox=\"0 0 24 24\"\n",
              "       width=\"24px\">\n",
              "    <path d=\"M0 0h24v24H0V0z\" fill=\"none\"/>\n",
              "    <path d=\"M18.56 5.44l.94 2.06.94-2.06 2.06-.94-2.06-.94-.94-2.06-.94 2.06-2.06.94zm-11 1L8.5 8.5l.94-2.06 2.06-.94-2.06-.94L8.5 2.5l-.94 2.06-2.06.94zm10 10l.94 2.06.94-2.06 2.06-.94-2.06-.94-.94-2.06-.94 2.06-2.06.94z\"/><path d=\"M17.41 7.96l-1.37-1.37c-.4-.4-.92-.59-1.43-.59-.52 0-1.04.2-1.43.59L10.3 9.45l-7.72 7.72c-.78.78-.78 2.05 0 2.83L4 21.41c.39.39.9.59 1.41.59.51 0 1.02-.2 1.41-.59l7.78-7.78 2.81-2.81c.8-.78.8-2.07 0-2.86zM5.41 20L4 18.59l7.72-7.72 1.47 1.35L5.41 20z\"/>\n",
              "  </svg>\n",
              "      </button>\n",
              "      \n",
              "  <style>\n",
              "    .colab-df-container {\n",
              "      display:flex;\n",
              "      flex-wrap:wrap;\n",
              "      gap: 12px;\n",
              "    }\n",
              "\n",
              "    .colab-df-convert {\n",
              "      background-color: #E8F0FE;\n",
              "      border: none;\n",
              "      border-radius: 50%;\n",
              "      cursor: pointer;\n",
              "      display: none;\n",
              "      fill: #1967D2;\n",
              "      height: 32px;\n",
              "      padding: 0 0 0 0;\n",
              "      width: 32px;\n",
              "    }\n",
              "\n",
              "    .colab-df-convert:hover {\n",
              "      background-color: #E2EBFA;\n",
              "      box-shadow: 0px 1px 2px rgba(60, 64, 67, 0.3), 0px 1px 3px 1px rgba(60, 64, 67, 0.15);\n",
              "      fill: #174EA6;\n",
              "    }\n",
              "\n",
              "    [theme=dark] .colab-df-convert {\n",
              "      background-color: #3B4455;\n",
              "      fill: #D2E3FC;\n",
              "    }\n",
              "\n",
              "    [theme=dark] .colab-df-convert:hover {\n",
              "      background-color: #434B5C;\n",
              "      box-shadow: 0px 1px 3px 1px rgba(0, 0, 0, 0.15);\n",
              "      filter: drop-shadow(0px 1px 2px rgba(0, 0, 0, 0.3));\n",
              "      fill: #FFFFFF;\n",
              "    }\n",
              "  </style>\n",
              "\n",
              "      <script>\n",
              "        const buttonEl =\n",
              "          document.querySelector('#df-2af65f62-c191-429f-9cd3-1833f90ee1e1 button.colab-df-convert');\n",
              "        buttonEl.style.display =\n",
              "          google.colab.kernel.accessAllowed ? 'block' : 'none';\n",
              "\n",
              "        async function convertToInteractive(key) {\n",
              "          const element = document.querySelector('#df-2af65f62-c191-429f-9cd3-1833f90ee1e1');\n",
              "          const dataTable =\n",
              "            await google.colab.kernel.invokeFunction('convertToInteractive',\n",
              "                                                     [key], {});\n",
              "          if (!dataTable) return;\n",
              "\n",
              "          const docLinkHtml = 'Like what you see? Visit the ' +\n",
              "            '<a target=\"_blank\" href=https://colab.research.google.com/notebooks/data_table.ipynb>data table notebook</a>'\n",
              "            + ' to learn more about interactive tables.';\n",
              "          element.innerHTML = '';\n",
              "          dataTable['output_type'] = 'display_data';\n",
              "          await google.colab.output.renderOutput(dataTable, element);\n",
              "          const docLink = document.createElement('div');\n",
              "          docLink.innerHTML = docLinkHtml;\n",
              "          element.appendChild(docLink);\n",
              "        }\n",
              "      </script>\n",
              "    </div>\n",
              "  </div>\n",
              "  "
            ]
          },
          "metadata": {},
          "execution_count": 5
        }
      ]
    },
    {
      "cell_type": "code",
      "metadata": {
        "id": "7K3Hw6ggpr9s"
      },
      "source": [
        "# Alternate way to create mod_data data frame\n",
        "#mod_data1 = pd.DataFrame(data, columns= ['Potential applied (V)', 'WE(1).δ.Current (A)'])\n",
        "#mod_data1.head()"
      ],
      "execution_count": null,
      "outputs": []
    },
    {
      "cell_type": "code",
      "metadata": {
        "id": "FQw53rpTgnXs",
        "outputId": "62bc3dd2-6f8a-44d5-9693-2946b5f7bb2e",
        "colab": {
          "base_uri": "https://localhost:8080/",
          "height": 206
        }
      },
      "source": [
        "# Rename columns for ease of handling\n",
        "mod_data = mod_data.rename(columns={'Potential applied (V)': 'Potential(V)', 'WE(1).δ.Current (A)': 'Current(A)'})\n",
        "mod_data.head()"
      ],
      "execution_count": null,
      "outputs": [
        {
          "output_type": "execute_result",
          "data": {
            "text/plain": [
              "   Potential(V)  Current(A)\n",
              "0     -0.099945    0.000109\n",
              "1     -0.094910    0.000108\n",
              "2     -0.089874    0.000108\n",
              "3     -0.084839    0.000107\n",
              "4     -0.079803    0.000107"
            ],
            "text/html": [
              "\n",
              "  <div id=\"df-365c195a-17d0-4e67-aef1-c73bf58af479\">\n",
              "    <div class=\"colab-df-container\">\n",
              "      <div>\n",
              "<style scoped>\n",
              "    .dataframe tbody tr th:only-of-type {\n",
              "        vertical-align: middle;\n",
              "    }\n",
              "\n",
              "    .dataframe tbody tr th {\n",
              "        vertical-align: top;\n",
              "    }\n",
              "\n",
              "    .dataframe thead th {\n",
              "        text-align: right;\n",
              "    }\n",
              "</style>\n",
              "<table border=\"1\" class=\"dataframe\">\n",
              "  <thead>\n",
              "    <tr style=\"text-align: right;\">\n",
              "      <th></th>\n",
              "      <th>Potential(V)</th>\n",
              "      <th>Current(A)</th>\n",
              "    </tr>\n",
              "  </thead>\n",
              "  <tbody>\n",
              "    <tr>\n",
              "      <th>0</th>\n",
              "      <td>-0.099945</td>\n",
              "      <td>0.000109</td>\n",
              "    </tr>\n",
              "    <tr>\n",
              "      <th>1</th>\n",
              "      <td>-0.094910</td>\n",
              "      <td>0.000108</td>\n",
              "    </tr>\n",
              "    <tr>\n",
              "      <th>2</th>\n",
              "      <td>-0.089874</td>\n",
              "      <td>0.000108</td>\n",
              "    </tr>\n",
              "    <tr>\n",
              "      <th>3</th>\n",
              "      <td>-0.084839</td>\n",
              "      <td>0.000107</td>\n",
              "    </tr>\n",
              "    <tr>\n",
              "      <th>4</th>\n",
              "      <td>-0.079803</td>\n",
              "      <td>0.000107</td>\n",
              "    </tr>\n",
              "  </tbody>\n",
              "</table>\n",
              "</div>\n",
              "      <button class=\"colab-df-convert\" onclick=\"convertToInteractive('df-365c195a-17d0-4e67-aef1-c73bf58af479')\"\n",
              "              title=\"Convert this dataframe to an interactive table.\"\n",
              "              style=\"display:none;\">\n",
              "        \n",
              "  <svg xmlns=\"http://www.w3.org/2000/svg\" height=\"24px\"viewBox=\"0 0 24 24\"\n",
              "       width=\"24px\">\n",
              "    <path d=\"M0 0h24v24H0V0z\" fill=\"none\"/>\n",
              "    <path d=\"M18.56 5.44l.94 2.06.94-2.06 2.06-.94-2.06-.94-.94-2.06-.94 2.06-2.06.94zm-11 1L8.5 8.5l.94-2.06 2.06-.94-2.06-.94L8.5 2.5l-.94 2.06-2.06.94zm10 10l.94 2.06.94-2.06 2.06-.94-2.06-.94-.94-2.06-.94 2.06-2.06.94z\"/><path d=\"M17.41 7.96l-1.37-1.37c-.4-.4-.92-.59-1.43-.59-.52 0-1.04.2-1.43.59L10.3 9.45l-7.72 7.72c-.78.78-.78 2.05 0 2.83L4 21.41c.39.39.9.59 1.41.59.51 0 1.02-.2 1.41-.59l7.78-7.78 2.81-2.81c.8-.78.8-2.07 0-2.86zM5.41 20L4 18.59l7.72-7.72 1.47 1.35L5.41 20z\"/>\n",
              "  </svg>\n",
              "      </button>\n",
              "      \n",
              "  <style>\n",
              "    .colab-df-container {\n",
              "      display:flex;\n",
              "      flex-wrap:wrap;\n",
              "      gap: 12px;\n",
              "    }\n",
              "\n",
              "    .colab-df-convert {\n",
              "      background-color: #E8F0FE;\n",
              "      border: none;\n",
              "      border-radius: 50%;\n",
              "      cursor: pointer;\n",
              "      display: none;\n",
              "      fill: #1967D2;\n",
              "      height: 32px;\n",
              "      padding: 0 0 0 0;\n",
              "      width: 32px;\n",
              "    }\n",
              "\n",
              "    .colab-df-convert:hover {\n",
              "      background-color: #E2EBFA;\n",
              "      box-shadow: 0px 1px 2px rgba(60, 64, 67, 0.3), 0px 1px 3px 1px rgba(60, 64, 67, 0.15);\n",
              "      fill: #174EA6;\n",
              "    }\n",
              "\n",
              "    [theme=dark] .colab-df-convert {\n",
              "      background-color: #3B4455;\n",
              "      fill: #D2E3FC;\n",
              "    }\n",
              "\n",
              "    [theme=dark] .colab-df-convert:hover {\n",
              "      background-color: #434B5C;\n",
              "      box-shadow: 0px 1px 3px 1px rgba(0, 0, 0, 0.15);\n",
              "      filter: drop-shadow(0px 1px 2px rgba(0, 0, 0, 0.3));\n",
              "      fill: #FFFFFF;\n",
              "    }\n",
              "  </style>\n",
              "\n",
              "      <script>\n",
              "        const buttonEl =\n",
              "          document.querySelector('#df-365c195a-17d0-4e67-aef1-c73bf58af479 button.colab-df-convert');\n",
              "        buttonEl.style.display =\n",
              "          google.colab.kernel.accessAllowed ? 'block' : 'none';\n",
              "\n",
              "        async function convertToInteractive(key) {\n",
              "          const element = document.querySelector('#df-365c195a-17d0-4e67-aef1-c73bf58af479');\n",
              "          const dataTable =\n",
              "            await google.colab.kernel.invokeFunction('convertToInteractive',\n",
              "                                                     [key], {});\n",
              "          if (!dataTable) return;\n",
              "\n",
              "          const docLinkHtml = 'Like what you see? Visit the ' +\n",
              "            '<a target=\"_blank\" href=https://colab.research.google.com/notebooks/data_table.ipynb>data table notebook</a>'\n",
              "            + ' to learn more about interactive tables.';\n",
              "          element.innerHTML = '';\n",
              "          dataTable['output_type'] = 'display_data';\n",
              "          await google.colab.output.renderOutput(dataTable, element);\n",
              "          const docLink = document.createElement('div');\n",
              "          docLink.innerHTML = docLinkHtml;\n",
              "          element.appendChild(docLink);\n",
              "        }\n",
              "      </script>\n",
              "    </div>\n",
              "  </div>\n",
              "  "
            ]
          },
          "metadata": {},
          "execution_count": 6
        }
      ]
    },
    {
      "cell_type": "code",
      "metadata": {
        "id": "i7DmO1H9gwNj"
      },
      "source": [
        "# Convert the potential to list\n",
        "potential_list = mod_data['Potential(V)'].values.tolist()"
      ],
      "execution_count": null,
      "outputs": []
    },
    {
      "cell_type": "code",
      "metadata": {
        "id": "FnOZ1In-gz8F"
      },
      "source": [
        "# Convert the current to list\n",
        "current_list = mod_data['Current(A)'].values.tolist()"
      ],
      "execution_count": null,
      "outputs": []
    },
    {
      "cell_type": "code",
      "metadata": {
        "id": "MawVOJ7ug2uK",
        "outputId": "e53ea60f-8f6a-4b7b-dc4f-afbcc58443ee",
        "colab": {
          "base_uri": "https://localhost:8080/",
          "height": 294
        }
      },
      "source": [
        "# Plot the data frame\n",
        "mod_data.plot(kind='line', x='Potential(V)', y='Current(A)')\n",
        "\n",
        "plt.title(\"DPV Voltammogram\")\n",
        "plt.xlabel(\"Potential (V vs.SCE)\")\n",
        "plt.ylabel(\"Current(A)\")\n",
        "plt.legend([\"1 uM\"])\n",
        "\n",
        "plt.show()"
      ],
      "execution_count": null,
      "outputs": [
        {
          "output_type": "display_data",
          "data": {
            "text/plain": [
              "<Figure size 432x288 with 1 Axes>"
            ],
            "image/png": "[encoded data removed]"
          },
          "metadata": {
            "needs_background": "light"
          }
        }
      ]
    },
    {
      "cell_type": "code",
      "metadata": {
        "id": "0n1InuNHhIpZ",
        "outputId": "a90e5c2b-7f4b-43cf-f2f9-cc8478e84ebf",
        "colab": {
          "base_uri": "https://localhost:8080/"
        }
      },
      "source": [
        "# Find the peaks\n",
        "\n",
        "from scipy.signal import find_peaks\n",
        "\n",
        "peaks,_= find_peaks(mod_data['Current(A)'])\n",
        "peaks"
      ],
      "execution_count": null,
      "outputs": [
        {
          "output_type": "execute_result",
          "data": {
            "text/plain": [
              "array([28, 52])"
            ]
          },
          "metadata": {},
          "execution_count": 10
        }
      ]
    },
    {
      "cell_type": "code",
      "metadata": {
        "id": "mpUItn0shNR3",
        "outputId": "bceb906c-f8a4-477f-bc45-f8399be8bd67",
        "colab": {
          "base_uri": "https://localhost:8080/"
        }
      },
      "source": [
        "# Get the peak values\n",
        "\n",
        "x= [potential_list[i] for i in peaks]\n",
        "y= [current_list[i] for i in peaks]\n",
        "print(x, y)"
      ],
      "execution_count": null,
      "outputs": [
        {
          "output_type": "stream",
          "name": "stdout",
          "text": [
            "[0.041046142578125, 0.161895751953125] [0.0001134478759765, 0.0001109069824218]\n"
          ]
        }
      ]
    },
    {
      "cell_type": "code",
      "metadata": {
        "id": "x9DYsCTzkWbZ",
        "outputId": "dd409f1c-b415-465a-df65-8afa37e22cf8",
        "colab": {
          "base_uri": "https://localhost:8080/",
          "height": 300
        }
      },
      "source": [
        "sns.lineplot(x='Potential(V)', y='Current(A)', color='r', data=mod_data)"
      ],
      "execution_count": null,
      "outputs": [
        {
          "output_type": "execute_result",
          "data": {
            "text/plain": [
              "<matplotlib.axes._subplots.AxesSubplot at 0x7f3d23b4ce90>"
            ]
          },
          "metadata": {},
          "execution_count": 12
        },
        {
          "output_type": "display_data",
          "data": {
            "text/plain": [
              "<Figure size 432x288 with 1 Axes>"
            ],
            "image/png": "[encoded data removed]"
          },
          "metadata": {
            "needs_background": "light"
          }
        }
      ]
    },
    {
      "cell_type": "code",
      "metadata": {
        "id": "QnhuyJ-Vk6I_",
        "outputId": "14a489d1-9a07-44a0-f6eb-fc0b51df68be",
        "colab": {
          "base_uri": "https://localhost:8080/",
          "height": 283
        }
      },
      "source": [
        "sns.scatterplot(x=x, y=y, color='g')"
      ],
      "execution_count": null,
      "outputs": [
        {
          "output_type": "execute_result",
          "data": {
            "text/plain": [
              "<matplotlib.axes._subplots.AxesSubplot at 0x7f3d23b76d90>"
            ]
          },
          "metadata": {},
          "execution_count": 13
        },
        {
          "output_type": "display_data",
          "data": {
            "text/plain": [
              "<Figure size 432x288 with 1 Axes>"
            ],
            "image/png": "[encoded data removed]"
          },
          "metadata": {
            "needs_background": "light"
          }
        }
      ]
    },
    {
      "cell_type": "code",
      "metadata": {
        "id": "ArG7HBlElpdp",
        "outputId": "db692950-9ecb-4a22-bb8e-a210def12ba4",
        "colab": {
          "base_uri": "https://localhost:8080/",
          "height": 281
        }
      },
      "source": [
        "ax1 = sns.lineplot(x='Potential(V)', y='Current(A)', color='r', data=mod_data, legend=\"full\")\n",
        "ax2 = sns.scatterplot(x=x, y=y, color='b', marker='x')"
      ],
      "execution_count": null,
      "outputs": [
        {
          "output_type": "display_data",
          "data": {
            "text/plain": [
              "<Figure size 432x288 with 1 Axes>"
            ],
            "image/png": "[encoded data removed]"
          },
          "metadata": {
            "needs_background": "light"
          }
        }
      ]
    },
    {
      "cell_type": "code",
      "metadata": {
        "id": "2XV6eCyLNH-K"
      },
      "source": [
        "# Load the csv or txt files in the given directory\n",
        "\n",
        "csvs = [x for x in os.listdir('/content/drive/My Drive/Colab Notebooks/Peak Finder Project/EChem_Data') if x.endswith('.txt')]"
      ],
      "execution_count": null,
      "outputs": []
    },
    {
      "cell_type": "code",
      "metadata": {
        "id": "NMPuoXRsO2kZ",
        "colab": {
          "base_uri": "https://localhost:8080/"
        },
        "outputId": "0968a9a3-8a86-44ed-9965-a1306d6188c8"
      },
      "source": [
        "csvs"
      ],
      "execution_count": null,
      "outputs": [
        {
          "output_type": "execute_result",
          "data": {
            "text/plain": [
              "['100_mu_M.txt',\n",
              " '150_mu_M.txt',\n",
              " '10_mu_M.txt',\n",
              " '1_mu_M.txt',\n",
              " '250_mu_M.txt',\n",
              " '300_mu_M.txt',\n",
              " '20_mu_M.txt',\n",
              " '200_mu_M.txt',\n",
              " '350_mu_M.txt',\n",
              " '40_mu_M.txt',\n",
              " '450_mu_M.txt',\n",
              " '500_mu_M.txt',\n",
              " '60_mu_M.txt',\n",
              " '400_mu_M.txt',\n",
              " '5_mu_M.txt',\n",
              " '600_mu_M.txt',\n",
              " '80_mu_M.txt',\n",
              " '550_mu_M.txt',\n",
              " '0.5_mu_M.txt']"
            ]
          },
          "metadata": {},
          "execution_count": 16
        }
      ]
    },
    {
      "cell_type": "code",
      "metadata": {
        "id": "LUamrjjmOgzY"
      },
      "source": [
        "# Create a list of file names for legends\n",
        "fns = [os.path.splitext(os.path.basename(x))[0] for x in csvs]"
      ],
      "execution_count": null,
      "outputs": []
    },
    {
      "cell_type": "code",
      "metadata": {
        "id": "cQ5KJRiQNhbh",
        "colab": {
          "base_uri": "https://localhost:8080/"
        },
        "outputId": "f3ac9c76-dadf-4c01-fed5-dcbd0b5d0da7"
      },
      "source": [
        "fns"
      ],
      "execution_count": null,
      "outputs": [
        {
          "output_type": "execute_result",
          "data": {
            "text/plain": [
              "['100_mu_M',\n",
              " '150_mu_M',\n",
              " '10_mu_M',\n",
              " '1_mu_M',\n",
              " '250_mu_M',\n",
              " '300_mu_M',\n",
              " '20_mu_M',\n",
              " '200_mu_M',\n",
              " '350_mu_M',\n",
              " '40_mu_M',\n",
              " '450_mu_M',\n",
              " '500_mu_M',\n",
              " '60_mu_M',\n",
              " '400_mu_M',\n",
              " '5_mu_M',\n",
              " '600_mu_M',\n",
              " '80_mu_M',\n",
              " '550_mu_M',\n",
              " '0.5_mu_M']"
            ]
          },
          "metadata": {},
          "execution_count": 18
        }
      ]
    },
    {
      "cell_type": "code",
      "metadata": {
        "id": "yFeMAUvlZx_E",
        "colab": {
          "base_uri": "https://localhost:8080/"
        },
        "outputId": "fed4b579-351f-43c3-c8d2-9a7b7eb02126"
      },
      "source": [
        "csv_files = os.listdir('/content/drive/My Drive/Colab Notebooks/Peak Finder Project/EChem_Data')\n",
        "csv_files"
      ],
      "execution_count": null,
      "outputs": [
        {
          "output_type": "execute_result",
          "data": {
            "text/plain": [
              "['100_mu_M.txt',\n",
              " '150_mu_M.txt',\n",
              " '10_mu_M.txt',\n",
              " '1_mu_M.txt',\n",
              " '250_mu_M.txt',\n",
              " '300_mu_M.txt',\n",
              " '20_mu_M.txt',\n",
              " '200_mu_M.txt',\n",
              " '350_mu_M.txt',\n",
              " '40_mu_M.txt',\n",
              " '450_mu_M.txt',\n",
              " '500_mu_M.txt',\n",
              " '60_mu_M.txt',\n",
              " '400_mu_M.txt',\n",
              " '5_mu_M.txt',\n",
              " '600_mu_M.txt',\n",
              " '80_mu_M.txt',\n",
              " '550_mu_M.txt',\n",
              " '0.5_mu_M.txt']"
            ]
          },
          "metadata": {},
          "execution_count": 19
        }
      ]
    },
    {
      "cell_type": "code",
      "metadata": {
        "id": "i5NFubBXedn6",
        "colab": {
          "base_uri": "https://localhost:8080/",
          "height": 36
        },
        "outputId": "24f880ae-ca14-4707-c5da-d16420e76aef"
      },
      "source": [
        "os.getcwd()"
      ],
      "execution_count": null,
      "outputs": [
        {
          "output_type": "execute_result",
          "data": {
            "text/plain": [
              "'/content'"
            ],
            "application/vnd.google.colaboratory.intrinsic+json": {
              "type": "string"
            }
          },
          "metadata": {},
          "execution_count": 20
        }
      ]
    },
    {
      "cell_type": "code",
      "metadata": {
        "id": "3Nb_dpTgeuW9"
      },
      "source": [
        "os.chdir('/content/drive/My Drive/Colab Notebooks/Peak Finder Project/EChem_Data')"
      ],
      "execution_count": null,
      "outputs": []
    },
    {
      "cell_type": "code",
      "metadata": {
        "id": "BsF1qAAde4_3",
        "colab": {
          "base_uri": "https://localhost:8080/",
          "height": 36
        },
        "outputId": "bc2d6d03-3365-4121-e320-f8181a563f3a"
      },
      "source": [
        "os.getcwd()"
      ],
      "execution_count": null,
      "outputs": [
        {
          "output_type": "execute_result",
          "data": {
            "text/plain": [
              "'/content/drive/MyDrive/Colab Notebooks/Peak Finder Project/EChem_Data'"
            ],
            "application/vnd.google.colaboratory.intrinsic+json": {
              "type": "string"
            }
          },
          "metadata": {},
          "execution_count": 22
        }
      ]
    },
    {
      "cell_type": "code",
      "metadata": {
        "id": "sqULcOOpPDvT"
      },
      "source": [
        "# Load the files into separate dataframes\n",
        "\n",
        "dict_csvs = {}\n",
        "for i in range(len(fns)):  # loop over files\n",
        "\n",
        "   # read csv into a dataframe and add it to dict with file_name as its key\n",
        "   dict_csvs[fns[i]] = pd.read_csv(csvs[i])"
      ],
      "execution_count": null,
      "outputs": []
    },
    {
      "cell_type": "code",
      "metadata": {
        "id": "-RLWbOornRff",
        "colab": {
          "base_uri": "https://localhost:8080/"
        },
        "outputId": "bd42cff5-4df4-4323-c5cc-d4c1e99c4ebc"
      },
      "source": [
        "dict_csvs.keys()"
      ],
      "execution_count": null,
      "outputs": [
        {
          "output_type": "execute_result",
          "data": {
            "text/plain": [
              "dict_keys(['100_mu_M', '150_mu_M', '10_mu_M', '1_mu_M', '250_mu_M', '300_mu_M', '20_mu_M', '200_mu_M', '350_mu_M', '40_mu_M', '450_mu_M', '500_mu_M', '60_mu_M', '400_mu_M', '5_mu_M', '600_mu_M', '80_mu_M', '550_mu_M', '0.5_mu_M'])"
            ]
          },
          "metadata": {},
          "execution_count": 24
        }
      ]
    },
    {
      "cell_type": "code",
      "metadata": {
        "id": "V1GhiyP-m2eH",
        "colab": {
          "base_uri": "https://localhost:8080/",
          "height": 206
        },
        "outputId": "e10d94b7-d46f-45dd-8f24-f8a0d5e4dc2d"
      },
      "source": [
        "dict_csvs['1_mu_M'].head()"
      ],
      "execution_count": null,
      "outputs": [
        {
          "output_type": "execute_result",
          "data": {
            "text/plain": [
              "   Potential applied (V)  WE(1).Base.Potential (V)  WE(1).Base.Current (A)  \\\n",
              "0              -0.099945                 -0.099701               -0.000008   \n",
              "1              -0.094910                 -0.094635               -0.000007   \n",
              "2              -0.089874                 -0.089600               -0.000005   \n",
              "3              -0.084839                 -0.084595               -0.000004   \n",
              "4              -0.079803                 -0.079590               -0.000003   \n",
              "\n",
              "   WE(1).Pulse.Current (A)  WE(1).δ.Current (A)  \n",
              "0                 0.000023             0.000031  \n",
              "1                 0.000024             0.000031  \n",
              "2                 0.000025             0.000031  \n",
              "3                 0.000026             0.000030  \n",
              "4                 0.000027             0.000030  "
            ],
            "text/html": [
              "\n",
              "  <div id=\"df-e2e89128-d4f2-434a-81b1-836d2df950e6\">\n",
              "    <div class=\"colab-df-container\">\n",
              "      <div>\n",
              "<style scoped>\n",
              "    .dataframe tbody tr th:only-of-type {\n",
              "        vertical-align: middle;\n",
              "    }\n",
              "\n",
              "    .dataframe tbody tr th {\n",
              "        vertical-align: top;\n",
              "    }\n",
              "\n",
              "    .dataframe thead th {\n",
              "        text-align: right;\n",
              "    }\n",
              "</style>\n",
              "<table border=\"1\" class=\"dataframe\">\n",
              "  <thead>\n",
              "    <tr style=\"text-align: right;\">\n",
              "      <th></th>\n",
              "      <th>Potential applied (V)</th>\n",
              "      <th>WE(1).Base.Potential (V)</th>\n",
              "      <th>WE(1).Base.Current (A)</th>\n",
              "      <th>WE(1).Pulse.Current (A)</th>\n",
              "      <th>WE(1).δ.Current (A)</th>\n",
              "    </tr>\n",
              "  </thead>\n",
              "  <tbody>\n",
              "    <tr>\n",
              "      <th>0</th>\n",
              "      <td>-0.099945</td>\n",
              "      <td>-0.099701</td>\n",
              "      <td>-0.000008</td>\n",
              "      <td>0.000023</td>\n",
              "      <td>0.000031</td>\n",
              "    </tr>\n",
              "    <tr>\n",
              "      <th>1</th>\n",
              "      <td>-0.094910</td>\n",
              "      <td>-0.094635</td>\n",
              "      <td>-0.000007</td>\n",
              "      <td>0.000024</td>\n",
              "      <td>0.000031</td>\n",
              "    </tr>\n",
              "    <tr>\n",
              "      <th>2</th>\n",
              "      <td>-0.089874</td>\n",
              "      <td>-0.089600</td>\n",
              "      <td>-0.000005</td>\n",
              "      <td>0.000025</td>\n",
              "      <td>0.000031</td>\n",
              "    </tr>\n",
              "    <tr>\n",
              "      <th>3</th>\n",
              "      <td>-0.084839</td>\n",
              "      <td>-0.084595</td>\n",
              "      <td>-0.000004</td>\n",
              "      <td>0.000026</td>\n",
              "      <td>0.000030</td>\n",
              "    </tr>\n",
              "    <tr>\n",
              "      <th>4</th>\n",
              "      <td>-0.079803</td>\n",
              "      <td>-0.079590</td>\n",
              "      <td>-0.000003</td>\n",
              "      <td>0.000027</td>\n",
              "      <td>0.000030</td>\n",
              "    </tr>\n",
              "  </tbody>\n",
              "</table>\n",
              "</div>\n",
              "      <button class=\"colab-df-convert\" onclick=\"convertToInteractive('df-e2e89128-d4f2-434a-81b1-836d2df950e6')\"\n",
              "              title=\"Convert this dataframe to an interactive table.\"\n",
              "              style=\"display:none;\">\n",
              "        \n",
              "  <svg xmlns=\"http://www.w3.org/2000/svg\" height=\"24px\"viewBox=\"0 0 24 24\"\n",
              "       width=\"24px\">\n",
              "    <path d=\"M0 0h24v24H0V0z\" fill=\"none\"/>\n",
              "    <path d=\"M18.56 5.44l.94 2.06.94-2.06 2.06-.94-2.06-.94-.94-2.06-.94 2.06-2.06.94zm-11 1L8.5 8.5l.94-2.06 2.06-.94-2.06-.94L8.5 2.5l-.94 2.06-2.06.94zm10 10l.94 2.06.94-2.06 2.06-.94-2.06-.94-.94-2.06-.94 2.06-2.06.94z\"/><path d=\"M17.41 7.96l-1.37-1.37c-.4-.4-.92-.59-1.43-.59-.52 0-1.04.2-1.43.59L10.3 9.45l-7.72 7.72c-.78.78-.78 2.05 0 2.83L4 21.41c.39.39.9.59 1.41.59.51 0 1.02-.2 1.41-.59l7.78-7.78 2.81-2.81c.8-.78.8-2.07 0-2.86zM5.41 20L4 18.59l7.72-7.72 1.47 1.35L5.41 20z\"/>\n",
              "  </svg>\n",
              "      </button>\n",
              "      \n",
              "  <style>\n",
              "    .colab-df-container {\n",
              "      display:flex;\n",
              "      flex-wrap:wrap;\n",
              "      gap: 12px;\n",
              "    }\n",
              "\n",
              "    .colab-df-convert {\n",
              "      background-color: #E8F0FE;\n",
              "      border: none;\n",
              "      border-radius: 50%;\n",
              "      cursor: pointer;\n",
              "      display: none;\n",
              "      fill: #1967D2;\n",
              "      height: 32px;\n",
              "      padding: 0 0 0 0;\n",
              "      width: 32px;\n",
              "    }\n",
              "\n",
              "    .colab-df-convert:hover {\n",
              "      background-color: #E2EBFA;\n",
              "      box-shadow: 0px 1px 2px rgba(60, 64, 67, 0.3), 0px 1px 3px 1px rgba(60, 64, 67, 0.15);\n",
              "      fill: #174EA6;\n",
              "    }\n",
              "\n",
              "    [theme=dark] .colab-df-convert {\n",
              "      background-color: #3B4455;\n",
              "      fill: #D2E3FC;\n",
              "    }\n",
              "\n",
              "    [theme=dark] .colab-df-convert:hover {\n",
              "      background-color: #434B5C;\n",
              "      box-shadow: 0px 1px 3px 1px rgba(0, 0, 0, 0.15);\n",
              "      filter: drop-shadow(0px 1px 2px rgba(0, 0, 0, 0.3));\n",
              "      fill: #FFFFFF;\n",
              "    }\n",
              "  </style>\n",
              "\n",
              "      <script>\n",
              "        const buttonEl =\n",
              "          document.querySelector('#df-e2e89128-d4f2-434a-81b1-836d2df950e6 button.colab-df-convert');\n",
              "        buttonEl.style.display =\n",
              "          google.colab.kernel.accessAllowed ? 'block' : 'none';\n",
              "\n",
              "        async function convertToInteractive(key) {\n",
              "          const element = document.querySelector('#df-e2e89128-d4f2-434a-81b1-836d2df950e6');\n",
              "          const dataTable =\n",
              "            await google.colab.kernel.invokeFunction('convertToInteractive',\n",
              "                                                     [key], {});\n",
              "          if (!dataTable) return;\n",
              "\n",
              "          const docLinkHtml = 'Like what you see? Visit the ' +\n",
              "            '<a target=\"_blank\" href=https://colab.research.google.com/notebooks/data_table.ipynb>data table notebook</a>'\n",
              "            + ' to learn more about interactive tables.';\n",
              "          element.innerHTML = '';\n",
              "          dataTable['output_type'] = 'display_data';\n",
              "          await google.colab.output.renderOutput(dataTable, element);\n",
              "          const docLink = document.createElement('div');\n",
              "          docLink.innerHTML = docLinkHtml;\n",
              "          element.appendChild(docLink);\n",
              "        }\n",
              "      </script>\n",
              "    </div>\n",
              "  </div>\n",
              "  "
            ]
          },
          "metadata": {},
          "execution_count": 25
        }
      ]
    },
    {
      "cell_type": "code",
      "metadata": {
        "id": "bUc40Fsmhsea"
      },
      "source": [
        "mod_csvs = {}\n",
        "\n",
        "for keys in dict_csvs.keys():\n",
        "  mod_csvs[keys] = pd.DataFrame(data = dict_csvs[keys], columns= ['Potential applied (V)', 'WE(1).δ.Current (A)'])"
      ],
      "execution_count": null,
      "outputs": []
    },
    {
      "cell_type": "code",
      "metadata": {
        "id": "r5xWQxV7sswV",
        "colab": {
          "base_uri": "https://localhost:8080/"
        },
        "outputId": "2b47ae02-87b4-420a-c397-d6fb507dcef9"
      },
      "source": [
        "mod_csvs.keys()"
      ],
      "execution_count": null,
      "outputs": [
        {
          "output_type": "execute_result",
          "data": {
            "text/plain": [
              "dict_keys(['100_mu_M', '150_mu_M', '10_mu_M', '1_mu_M', '250_mu_M', '300_mu_M', '20_mu_M', '200_mu_M', '350_mu_M', '40_mu_M', '450_mu_M', '500_mu_M', '60_mu_M', '400_mu_M', '5_mu_M', '600_mu_M', '80_mu_M', '550_mu_M', '0.5_mu_M'])"
            ]
          },
          "metadata": {},
          "execution_count": 27
        }
      ]
    },
    {
      "cell_type": "code",
      "metadata": {
        "id": "0ubQylz9topi",
        "colab": {
          "base_uri": "https://localhost:8080/",
          "height": 206
        },
        "outputId": "2c22b065-06c6-4b0e-e694-bb1154f20dcc"
      },
      "source": [
        "mod_csvs['300_mu_M'].head()"
      ],
      "execution_count": null,
      "outputs": [
        {
          "output_type": "execute_result",
          "data": {
            "text/plain": [
              "   Potential applied (V)  WE(1).δ.Current (A)\n",
              "0              -0.099945             0.000041\n",
              "1              -0.094910             0.000041\n",
              "2              -0.089874             0.000040\n",
              "3              -0.084839             0.000040\n",
              "4              -0.079803             0.000039"
            ],
            "text/html": [
              "\n",
              "  <div id=\"df-508447f9-5bcb-4364-a9eb-421a943e7ef7\">\n",
              "    <div class=\"colab-df-container\">\n",
              "      <div>\n",
              "<style scoped>\n",
              "    .dataframe tbody tr th:only-of-type {\n",
              "        vertical-align: middle;\n",
              "    }\n",
              "\n",
              "    .dataframe tbody tr th {\n",
              "        vertical-align: top;\n",
              "    }\n",
              "\n",
              "    .dataframe thead th {\n",
              "        text-align: right;\n",
              "    }\n",
              "</style>\n",
              "<table border=\"1\" class=\"dataframe\">\n",
              "  <thead>\n",
              "    <tr style=\"text-align: right;\">\n",
              "      <th></th>\n",
              "      <th>Potential applied (V)</th>\n",
              "      <th>WE(1).δ.Current (A)</th>\n",
              "    </tr>\n",
              "  </thead>\n",
              "  <tbody>\n",
              "    <tr>\n",
              "      <th>0</th>\n",
              "      <td>-0.099945</td>\n",
              "      <td>0.000041</td>\n",
              "    </tr>\n",
              "    <tr>\n",
              "      <th>1</th>\n",
              "      <td>-0.094910</td>\n",
              "      <td>0.000041</td>\n",
              "    </tr>\n",
              "    <tr>\n",
              "      <th>2</th>\n",
              "      <td>-0.089874</td>\n",
              "      <td>0.000040</td>\n",
              "    </tr>\n",
              "    <tr>\n",
              "      <th>3</th>\n",
              "      <td>-0.084839</td>\n",
              "      <td>0.000040</td>\n",
              "    </tr>\n",
              "    <tr>\n",
              "      <th>4</th>\n",
              "      <td>-0.079803</td>\n",
              "      <td>0.000039</td>\n",
              "    </tr>\n",
              "  </tbody>\n",
              "</table>\n",
              "</div>\n",
              "      <button class=\"colab-df-convert\" onclick=\"convertToInteractive('df-508447f9-5bcb-4364-a9eb-421a943e7ef7')\"\n",
              "              title=\"Convert this dataframe to an interactive table.\"\n",
              "              style=\"display:none;\">\n",
              "        \n",
              "  <svg xmlns=\"http://www.w3.org/2000/svg\" height=\"24px\"viewBox=\"0 0 24 24\"\n",
              "       width=\"24px\">\n",
              "    <path d=\"M0 0h24v24H0V0z\" fill=\"none\"/>\n",
              "    <path d=\"M18.56 5.44l.94 2.06.94-2.06 2.06-.94-2.06-.94-.94-2.06-.94 2.06-2.06.94zm-11 1L8.5 8.5l.94-2.06 2.06-.94-2.06-.94L8.5 2.5l-.94 2.06-2.06.94zm10 10l.94 2.06.94-2.06 2.06-.94-2.06-.94-.94-2.06-.94 2.06-2.06.94z\"/><path d=\"M17.41 7.96l-1.37-1.37c-.4-.4-.92-.59-1.43-.59-.52 0-1.04.2-1.43.59L10.3 9.45l-7.72 7.72c-.78.78-.78 2.05 0 2.83L4 21.41c.39.39.9.59 1.41.59.51 0 1.02-.2 1.41-.59l7.78-7.78 2.81-2.81c.8-.78.8-2.07 0-2.86zM5.41 20L4 18.59l7.72-7.72 1.47 1.35L5.41 20z\"/>\n",
              "  </svg>\n",
              "      </button>\n",
              "      \n",
              "  <style>\n",
              "    .colab-df-container {\n",
              "      display:flex;\n",
              "      flex-wrap:wrap;\n",
              "      gap: 12px;\n",
              "    }\n",
              "\n",
              "    .colab-df-convert {\n",
              "      background-color: #E8F0FE;\n",
              "      border: none;\n",
              "      border-radius: 50%;\n",
              "      cursor: pointer;\n",
              "      display: none;\n",
              "      fill: #1967D2;\n",
              "      height: 32px;\n",
              "      padding: 0 0 0 0;\n",
              "      width: 32px;\n",
              "    }\n",
              "\n",
              "    .colab-df-convert:hover {\n",
              "      background-color: #E2EBFA;\n",
              "      box-shadow: 0px 1px 2px rgba(60, 64, 67, 0.3), 0px 1px 3px 1px rgba(60, 64, 67, 0.15);\n",
              "      fill: #174EA6;\n",
              "    }\n",
              "\n",
              "    [theme=dark] .colab-df-convert {\n",
              "      background-color: #3B4455;\n",
              "      fill: #D2E3FC;\n",
              "    }\n",
              "\n",
              "    [theme=dark] .colab-df-convert:hover {\n",
              "      background-color: #434B5C;\n",
              "      box-shadow: 0px 1px 3px 1px rgba(0, 0, 0, 0.15);\n",
              "      filter: drop-shadow(0px 1px 2px rgba(0, 0, 0, 0.3));\n",
              "      fill: #FFFFFF;\n",
              "    }\n",
              "  </style>\n",
              "\n",
              "      <script>\n",
              "        const buttonEl =\n",
              "          document.querySelector('#df-508447f9-5bcb-4364-a9eb-421a943e7ef7 button.colab-df-convert');\n",
              "        buttonEl.style.display =\n",
              "          google.colab.kernel.accessAllowed ? 'block' : 'none';\n",
              "\n",
              "        async function convertToInteractive(key) {\n",
              "          const element = document.querySelector('#df-508447f9-5bcb-4364-a9eb-421a943e7ef7');\n",
              "          const dataTable =\n",
              "            await google.colab.kernel.invokeFunction('convertToInteractive',\n",
              "                                                     [key], {});\n",
              "          if (!dataTable) return;\n",
              "\n",
              "          const docLinkHtml = 'Like what you see? Visit the ' +\n",
              "            '<a target=\"_blank\" href=https://colab.research.google.com/notebooks/data_table.ipynb>data table notebook</a>'\n",
              "            + ' to learn more about interactive tables.';\n",
              "          element.innerHTML = '';\n",
              "          dataTable['output_type'] = 'display_data';\n",
              "          await google.colab.output.renderOutput(dataTable, element);\n",
              "          const docLink = document.createElement('div');\n",
              "          docLink.innerHTML = docLinkHtml;\n",
              "          element.appendChild(docLink);\n",
              "        }\n",
              "      </script>\n",
              "    </div>\n",
              "  </div>\n",
              "  "
            ]
          },
          "metadata": {},
          "execution_count": 28
        }
      ]
    },
    {
      "cell_type": "code",
      "metadata": {
        "id": "USMl7mIvze9G"
      },
      "source": [
        "for keys in mod_csvs.keys():\n",
        "   mod_csvs[keys].rename(columns={'Potential applied (V)': 'Potential(V)', 'WE(1).δ.Current (A)': 'Current(A)'}, inplace=True)"
      ],
      "execution_count": null,
      "outputs": []
    },
    {
      "cell_type": "code",
      "metadata": {
        "id": "RzaL76LS1pby",
        "colab": {
          "base_uri": "https://localhost:8080/",
          "height": 206
        },
        "outputId": "6e8cbab7-c516-47b1-fbe2-7c0e21b645e0"
      },
      "source": [
        "mod_csvs['1_mu_M'].head()"
      ],
      "execution_count": null,
      "outputs": [
        {
          "output_type": "execute_result",
          "data": {
            "text/plain": [
              "   Potential(V)  Current(A)\n",
              "0     -0.099945    0.000031\n",
              "1     -0.094910    0.000031\n",
              "2     -0.089874    0.000031\n",
              "3     -0.084839    0.000030\n",
              "4     -0.079803    0.000030"
            ],
            "text/html": [
              "\n",
              "  <div id=\"df-24955bfe-5a07-4117-ae84-ba56db789111\">\n",
              "    <div class=\"colab-df-container\">\n",
              "      <div>\n",
              "<style scoped>\n",
              "    .dataframe tbody tr th:only-of-type {\n",
              "        vertical-align: middle;\n",
              "    }\n",
              "\n",
              "    .dataframe tbody tr th {\n",
              "        vertical-align: top;\n",
              "    }\n",
              "\n",
              "    .dataframe thead th {\n",
              "        text-align: right;\n",
              "    }\n",
              "</style>\n",
              "<table border=\"1\" class=\"dataframe\">\n",
              "  <thead>\n",
              "    <tr style=\"text-align: right;\">\n",
              "      <th></th>\n",
              "      <th>Potential(V)</th>\n",
              "      <th>Current(A)</th>\n",
              "    </tr>\n",
              "  </thead>\n",
              "  <tbody>\n",
              "    <tr>\n",
              "      <th>0</th>\n",
              "      <td>-0.099945</td>\n",
              "      <td>0.000031</td>\n",
              "    </tr>\n",
              "    <tr>\n",
              "      <th>1</th>\n",
              "      <td>-0.094910</td>\n",
              "      <td>0.000031</td>\n",
              "    </tr>\n",
              "    <tr>\n",
              "      <th>2</th>\n",
              "      <td>-0.089874</td>\n",
              "      <td>0.000031</td>\n",
              "    </tr>\n",
              "    <tr>\n",
              "      <th>3</th>\n",
              "      <td>-0.084839</td>\n",
              "      <td>0.000030</td>\n",
              "    </tr>\n",
              "    <tr>\n",
              "      <th>4</th>\n",
              "      <td>-0.079803</td>\n",
              "      <td>0.000030</td>\n",
              "    </tr>\n",
              "  </tbody>\n",
              "</table>\n",
              "</div>\n",
              "      <button class=\"colab-df-convert\" onclick=\"convertToInteractive('df-24955bfe-5a07-4117-ae84-ba56db789111')\"\n",
              "              title=\"Convert this dataframe to an interactive table.\"\n",
              "              style=\"display:none;\">\n",
              "        \n",
              "  <svg xmlns=\"http://www.w3.org/2000/svg\" height=\"24px\"viewBox=\"0 0 24 24\"\n",
              "       width=\"24px\">\n",
              "    <path d=\"M0 0h24v24H0V0z\" fill=\"none\"/>\n",
              "    <path d=\"M18.56 5.44l.94 2.06.94-2.06 2.06-.94-2.06-.94-.94-2.06-.94 2.06-2.06.94zm-11 1L8.5 8.5l.94-2.06 2.06-.94-2.06-.94L8.5 2.5l-.94 2.06-2.06.94zm10 10l.94 2.06.94-2.06 2.06-.94-2.06-.94-.94-2.06-.94 2.06-2.06.94z\"/><path d=\"M17.41 7.96l-1.37-1.37c-.4-.4-.92-.59-1.43-.59-.52 0-1.04.2-1.43.59L10.3 9.45l-7.72 7.72c-.78.78-.78 2.05 0 2.83L4 21.41c.39.39.9.59 1.41.59.51 0 1.02-.2 1.41-.59l7.78-7.78 2.81-2.81c.8-.78.8-2.07 0-2.86zM5.41 20L4 18.59l7.72-7.72 1.47 1.35L5.41 20z\"/>\n",
              "  </svg>\n",
              "      </button>\n",
              "      \n",
              "  <style>\n",
              "    .colab-df-container {\n",
              "      display:flex;\n",
              "      flex-wrap:wrap;\n",
              "      gap: 12px;\n",
              "    }\n",
              "\n",
              "    .colab-df-convert {\n",
              "      background-color: #E8F0FE;\n",
              "      border: none;\n",
              "      border-radius: 50%;\n",
              "      cursor: pointer;\n",
              "      display: none;\n",
              "      fill: #1967D2;\n",
              "      height: 32px;\n",
              "      padding: 0 0 0 0;\n",
              "      width: 32px;\n",
              "    }\n",
              "\n",
              "    .colab-df-convert:hover {\n",
              "      background-color: #E2EBFA;\n",
              "      box-shadow: 0px 1px 2px rgba(60, 64, 67, 0.3), 0px 1px 3px 1px rgba(60, 64, 67, 0.15);\n",
              "      fill: #174EA6;\n",
              "    }\n",
              "\n",
              "    [theme=dark] .colab-df-convert {\n",
              "      background-color: #3B4455;\n",
              "      fill: #D2E3FC;\n",
              "    }\n",
              "\n",
              "    [theme=dark] .colab-df-convert:hover {\n",
              "      background-color: #434B5C;\n",
              "      box-shadow: 0px 1px 3px 1px rgba(0, 0, 0, 0.15);\n",
              "      filter: drop-shadow(0px 1px 2px rgba(0, 0, 0, 0.3));\n",
              "      fill: #FFFFFF;\n",
              "    }\n",
              "  </style>\n",
              "\n",
              "      <script>\n",
              "        const buttonEl =\n",
              "          document.querySelector('#df-24955bfe-5a07-4117-ae84-ba56db789111 button.colab-df-convert');\n",
              "        buttonEl.style.display =\n",
              "          google.colab.kernel.accessAllowed ? 'block' : 'none';\n",
              "\n",
              "        async function convertToInteractive(key) {\n",
              "          const element = document.querySelector('#df-24955bfe-5a07-4117-ae84-ba56db789111');\n",
              "          const dataTable =\n",
              "            await google.colab.kernel.invokeFunction('convertToInteractive',\n",
              "                                                     [key], {});\n",
              "          if (!dataTable) return;\n",
              "\n",
              "          const docLinkHtml = 'Like what you see? Visit the ' +\n",
              "            '<a target=\"_blank\" href=https://colab.research.google.com/notebooks/data_table.ipynb>data table notebook</a>'\n",
              "            + ' to learn more about interactive tables.';\n",
              "          element.innerHTML = '';\n",
              "          dataTable['output_type'] = 'display_data';\n",
              "          await google.colab.output.renderOutput(dataTable, element);\n",
              "          const docLink = document.createElement('div');\n",
              "          docLink.innerHTML = docLinkHtml;\n",
              "          element.appendChild(docLink);\n",
              "        }\n",
              "      </script>\n",
              "    </div>\n",
              "  </div>\n",
              "  "
            ]
          },
          "metadata": {},
          "execution_count": 30
        }
      ]
    },
    {
      "cell_type": "code",
      "metadata": {
        "id": "9by-QtyQ1-sq",
        "colab": {
          "base_uri": "https://localhost:8080/",
          "height": 290
        },
        "outputId": "a0894968-f7fe-48d4-f771-4890e2a103cf"
      },
      "source": [
        "for keys in mod_csvs.keys():\n",
        "  ax1 = sns.lineplot(x='Potential(V)', y='Current(A)', data=mod_csvs[keys], legend=\"full\")"
      ],
      "execution_count": null,
      "outputs": [
        {
          "output_type": "display_data",
          "data": {
            "text/plain": [
              "<Figure size 432x288 with 1 Axes>"
            ],
            "image/png": "[encoded data removed]"
          },
          "metadata": {
            "needs_background": "light"
          }
        }
      ]
    },
    {
      "cell_type": "code",
      "metadata": {
        "id": "yUB7Jxo44Gt1",
        "colab": {
          "base_uri": "https://localhost:8080/",
          "height": 641
        },
        "outputId": "21b3d302-eed0-4ebc-af8d-fb1d17760470"
      },
      "source": [
        "# Find the peaks\n",
        "\n",
        "from scipy.signal import find_peaks\n",
        "\n",
        "#new_peaks=[]\n",
        "for keys in mod_csvs.keys():\n",
        "  new_peaks,_= find_peaks(mod_csvs[keys]['Current(A)'])\n",
        "\n",
        "  # Convert the current and potential values to list\n",
        "  new_potential_list = mod_csvs[keys]['Potential(V)'].values.tolist()\n",
        "  new_current_list = mod_csvs[keys]['Current(A)'].values.tolist()\n",
        "  \n",
        "  # Get the peak values\n",
        "\n",
        "  x= list(new_potential_list[i] for i in peaks)\n",
        "  y= list(new_current_list[i] for i in peaks)\n",
        "  print(x, y)\n",
        "\n",
        "  #index= mod_csvs.keys()\n",
        "  #data = pd.DataFrame({'HQ_Peak_Potential(V)':HQ_peak_V,'CC_Peak_Potential(V)':CC_peak_V,'HQ_Peak_Current(uA)':HQ_peak_A,'CC_Peak_Current(uA)':CC_peak_A},index=index)\n",
        "  # Plot the graphs along with the peaks\n",
        "\n",
        "  ax1 = sns.lineplot(x='Potential(V)', y='Current(A)', data=mod_csvs[keys], legend=\"full\")\n",
        "  ax2 = sns.scatterplot(x=x, y=y, color='r', marker='x', s=60)"
      ],
      "execution_count": null,
      "outputs": [
        {
          "output_type": "stream",
          "name": "stdout",
          "text": [
            "[0.041046142578125, 0.161895751953125] [3.5382080078125e-05, 3.42071533203125e-05]\n",
            "[0.041046142578125, 0.161895751953125] [3.7841796875e-05, 3.90838623046875e-05]\n",
            "[0.041046142578125, 0.161895751953125] [2.76309204101563e-05, 2.63607788085938e-05]\n",
            "[0.041046142578125, 0.161895751953125] [2.5841064453125e-05, 2.48101806640625e-05]\n",
            "[0.041046142578125, 0.161895751953125] [4.1510009765625e-05, 4.37957763671875e-05]\n",
            "[0.041046142578125, 0.161895751953125] [4.33990478515625e-05, 4.66552734375e-05]\n",
            "[0.041046142578125, 0.161895751953125] [2.88308715820312e-05, 2.73104858398438e-05]\n",
            "[0.041046142578125, 0.161895751953125] [3.97216796875e-05, 4.0399169921875e-05]\n",
            "[0.041046142578125, 0.161895751953125] [4.52392578125e-05, 4.85992431640625e-05]\n",
            "[0.041046142578125, 0.161895751953125] [3.10281372070313e-05, 2.908935546875e-05]\n",
            "[0.041046142578125, 0.161895751953125] [4.749755859375e-05, 5.26580810546875e-05]\n",
            "[0.041046142578125, 0.161895751953125] [4.88861083984375e-05, 5.4931640625e-05]\n",
            "[0.041046142578125, 0.161895751953125] [3.27938842773437e-05, 3.10302734375e-05]\n",
            "[0.041046142578125, 0.161895751953125] [4.637451171875e-05, 5.08056640625e-05]\n",
            "[0.041046142578125, 0.161895751953125] [2.67218017578125e-05, 2.55801391601563e-05]\n",
            "[0.041046142578125, 0.161895751953125] [5.13763427734375e-05, 5.8746337890625e-05]\n",
            "[0.041046142578125, 0.161895751953125] [3.3927001953125e-05, 3.3447265625e-05]\n",
            "[0.041046142578125, 0.161895751953125] [5e-05, 5.69427490234375e-05]\n",
            "[0.041046142578125, 0.161895751953125] [2.4564208984375e-05, 2.34954833984375e-05]\n"
          ]
        },
        {
          "output_type": "display_data",
          "data": {
            "text/plain": [
              "<Figure size 432x288 with 1 Axes>"
            ],
            "image/png": "[encoded data removed]"
          },
          "metadata": {
            "needs_background": "light"
          }
        }
      ]
    },
    {
      "cell_type": "code",
      "source": [
        "def peak_list():\n",
        "  #for keys in mod_csvs.keys():\n",
        "  new_peaks,_= find_peaks(mod_csvs[keys]['Current(A)'])\n",
        "\n",
        "  # Convert the current and potential values to list\n",
        "  new_potential_list = mod_csvs[keys]['Potential(V)'].values.tolist()\n",
        "  new_current_list = mod_csvs[keys]['Current(A)'].values.tolist()\n",
        "  \n",
        "  # Get the peak values\n",
        "\n",
        "  x= list(new_potential_list[i] for i in peaks)\n",
        "  y= list(new_current_list[i] for i in peaks)\n",
        "\n",
        "  return x,y"
      ],
      "metadata": {
        "id": "8mLZetViSp4-"
      },
      "execution_count": null,
      "outputs": []
    },
    {
      "cell_type": "code",
      "source": [
        "keys_list = list(mod_csvs.keys())\n",
        "keys_list"
      ],
      "metadata": {
        "colab": {
          "base_uri": "https://localhost:8080/"
        },
        "id": "ABo0eocscLze",
        "outputId": "6596e4af-db6a-4377-c158-03c83ab9b80d"
      },
      "execution_count": null,
      "outputs": [
        {
          "output_type": "execute_result",
          "data": {
            "text/plain": [
              "['100_mu_M',\n",
              " '150_mu_M',\n",
              " '10_mu_M',\n",
              " '1_mu_M',\n",
              " '250_mu_M',\n",
              " '300_mu_M',\n",
              " '20_mu_M',\n",
              " '200_mu_M',\n",
              " '350_mu_M',\n",
              " '40_mu_M',\n",
              " '450_mu_M',\n",
              " '500_mu_M',\n",
              " '60_mu_M',\n",
              " '400_mu_M',\n",
              " '5_mu_M',\n",
              " '600_mu_M',\n",
              " '80_mu_M',\n",
              " '550_mu_M',\n",
              " '0.5_mu_M']"
            ]
          },
          "metadata": {},
          "execution_count": 34
        }
      ]
    },
    {
      "cell_type": "code",
      "source": [
        "x_val = list()\n",
        "x_vals = list()\n",
        "y_val = list()\n",
        "y_vals = list()\n",
        "for keys in mod_csvs.keys():\n",
        "  x_val,_ = peak_list()\n",
        "  _,y_val = peak_list()\n",
        "  x_vals.append(x_val)\n",
        "  y_vals.append(y_val)\n",
        "\n",
        "print(x_vals, y_vals)\n",
        "index= mod_csvs.keys()\n",
        "pot_df = pd.DataFrame(data=x_vals, columns=['HQ_Peak_Potential(V)', 'CC_Peak_Potential(V)'], index=index)\n",
        "cur_df = pd.DataFrame(data=y_vals, columns=['HQ_Peak_Current(A)', 'CC_Peak_Current(A)'], index=index)\n",
        "peak_df = pot_df.join(cur_df)\n",
        "peak_df"
      ],
      "metadata": {
        "colab": {
          "base_uri": "https://localhost:8080/",
          "height": 683
        },
        "id": "Vwtk59wUSzJf",
        "outputId": "1a5e2792-bab5-417d-b33b-4f1a8ef6692e"
      },
      "execution_count": null,
      "outputs": [
        {
          "output_type": "stream",
          "name": "stdout",
          "text": [
            "[[0.041046142578125, 0.161895751953125], [0.041046142578125, 0.161895751953125], [0.041046142578125, 0.161895751953125], [0.041046142578125, 0.161895751953125], [0.041046142578125, 0.161895751953125], [0.041046142578125, 0.161895751953125], [0.041046142578125, 0.161895751953125], [0.041046142578125, 0.161895751953125], [0.041046142578125, 0.161895751953125], [0.041046142578125, 0.161895751953125], [0.041046142578125, 0.161895751953125], [0.041046142578125, 0.161895751953125], [0.041046142578125, 0.161895751953125], [0.041046142578125, 0.161895751953125], [0.041046142578125, 0.161895751953125], [0.041046142578125, 0.161895751953125], [0.041046142578125, 0.161895751953125], [0.041046142578125, 0.161895751953125], [0.041046142578125, 0.161895751953125]] [[3.5382080078125e-05, 3.42071533203125e-05], [3.7841796875e-05, 3.90838623046875e-05], [2.76309204101563e-05, 2.63607788085938e-05], [2.5841064453125e-05, 2.48101806640625e-05], [4.1510009765625e-05, 4.37957763671875e-05], [4.33990478515625e-05, 4.66552734375e-05], [2.88308715820312e-05, 2.73104858398438e-05], [3.97216796875e-05, 4.0399169921875e-05], [4.52392578125e-05, 4.85992431640625e-05], [3.10281372070313e-05, 2.908935546875e-05], [4.749755859375e-05, 5.26580810546875e-05], [4.88861083984375e-05, 5.4931640625e-05], [3.27938842773437e-05, 3.10302734375e-05], [4.637451171875e-05, 5.08056640625e-05], [2.67218017578125e-05, 2.55801391601563e-05], [5.13763427734375e-05, 5.8746337890625e-05], [3.3927001953125e-05, 3.3447265625e-05], [5e-05, 5.69427490234375e-05], [2.4564208984375e-05, 2.34954833984375e-05]]\n"
          ]
        },
        {
          "output_type": "execute_result",
          "data": {
            "text/plain": [
              "          HQ_Peak_Potential(V)  CC_Peak_Potential(V)  HQ_Peak_Current(A)  \\\n",
              "100_mu_M              0.041046              0.161896            0.000035   \n",
              "150_mu_M              0.041046              0.161896            0.000038   \n",
              "10_mu_M               0.041046              0.161896            0.000028   \n",
              "1_mu_M                0.041046              0.161896            0.000026   \n",
              "250_mu_M              0.041046              0.161896            0.000042   \n",
              "300_mu_M              0.041046              0.161896            0.000043   \n",
              "20_mu_M               0.041046              0.161896            0.000029   \n",
              "200_mu_M              0.041046              0.161896            0.000040   \n",
              "350_mu_M              0.041046              0.161896            0.000045   \n",
              "40_mu_M               0.041046              0.161896            0.000031   \n",
              "450_mu_M              0.041046              0.161896            0.000047   \n",
              "500_mu_M              0.041046              0.161896            0.000049   \n",
              "60_mu_M               0.041046              0.161896            0.000033   \n",
              "400_mu_M              0.041046              0.161896            0.000046   \n",
              "5_mu_M                0.041046              0.161896            0.000027   \n",
              "600_mu_M              0.041046              0.161896            0.000051   \n",
              "80_mu_M               0.041046              0.161896            0.000034   \n",
              "550_mu_M              0.041046              0.161896            0.000050   \n",
              "0.5_mu_M              0.041046              0.161896            0.000025   \n",
              "\n",
              "          CC_Peak_Current(A)  \n",
              "100_mu_M            0.000034  \n",
              "150_mu_M            0.000039  \n",
              "10_mu_M             0.000026  \n",
              "1_mu_M              0.000025  \n",
              "250_mu_M            0.000044  \n",
              "300_mu_M            0.000047  \n",
              "20_mu_M             0.000027  \n",
              "200_mu_M            0.000040  \n",
              "350_mu_M            0.000049  \n",
              "40_mu_M             0.000029  \n",
              "450_mu_M            0.000053  \n",
              "500_mu_M            0.000055  \n",
              "60_mu_M             0.000031  \n",
              "400_mu_M            0.000051  \n",
              "5_mu_M              0.000026  \n",
              "600_mu_M            0.000059  \n",
              "80_mu_M             0.000033  \n",
              "550_mu_M            0.000057  \n",
              "0.5_mu_M            0.000023  "
            ],
            "text/html": [
              "\n",
              "  <div id=\"df-02eb97c2-8992-43c8-96ad-099390bf241d\">\n",
              "    <div class=\"colab-df-container\">\n",
              "      <div>\n",
              "<style scoped>\n",
              "    .dataframe tbody tr th:only-of-type {\n",
              "        vertical-align: middle;\n",
              "    }\n",
              "\n",
              "    .dataframe tbody tr th {\n",
              "        vertical-align: top;\n",
              "    }\n",
              "\n",
              "    .dataframe thead th {\n",
              "        text-align: right;\n",
              "    }\n",
              "</style>\n",
              "<table border=\"1\" class=\"dataframe\">\n",
              "  <thead>\n",
              "    <tr style=\"text-align: right;\">\n",
              "      <th></th>\n",
              "      <th>HQ_Peak_Potential(V)</th>\n",
              "      <th>CC_Peak_Potential(V)</th>\n",
              "      <th>HQ_Peak_Current(A)</th>\n",
              "      <th>CC_Peak_Current(A)</th>\n",
              "    </tr>\n",
              "  </thead>\n",
              "  <tbody>\n",
              "    <tr>\n",
              "      <th>100_mu_M</th>\n",
              "      <td>0.041046</td>\n",
              "      <td>0.161896</td>\n",
              "      <td>0.000035</td>\n",
              "      <td>0.000034</td>\n",
              "    </tr>\n",
              "    <tr>\n",
              "      <th>150_mu_M</th>\n",
              "      <td>0.041046</td>\n",
              "      <td>0.161896</td>\n",
              "      <td>0.000038</td>\n",
              "      <td>0.000039</td>\n",
              "    </tr>\n",
              "    <tr>\n",
              "      <th>10_mu_M</th>\n",
              "      <td>0.041046</td>\n",
              "      <td>0.161896</td>\n",
              "      <td>0.000028</td>\n",
              "      <td>0.000026</td>\n",
              "    </tr>\n",
              "    <tr>\n",
              "      <th>1_mu_M</th>\n",
              "      <td>0.041046</td>\n",
              "      <td>0.161896</td>\n",
              "      <td>0.000026</td>\n",
              "      <td>0.000025</td>\n",
              "    </tr>\n",
              "    <tr>\n",
              "      <th>250_mu_M</th>\n",
              "      <td>0.041046</td>\n",
              "      <td>0.161896</td>\n",
              "      <td>0.000042</td>\n",
              "      <td>0.000044</td>\n",
              "    </tr>\n",
              "    <tr>\n",
              "      <th>300_mu_M</th>\n",
              "      <td>0.041046</td>\n",
              "      <td>0.161896</td>\n",
              "      <td>0.000043</td>\n",
              "      <td>0.000047</td>\n",
              "    </tr>\n",
              "    <tr>\n",
              "      <th>20_mu_M</th>\n",
              "      <td>0.041046</td>\n",
              "      <td>0.161896</td>\n",
              "      <td>0.000029</td>\n",
              "      <td>0.000027</td>\n",
              "    </tr>\n",
              "    <tr>\n",
              "      <th>200_mu_M</th>\n",
              "      <td>0.041046</td>\n",
              "      <td>0.161896</td>\n",
              "      <td>0.000040</td>\n",
              "      <td>0.000040</td>\n",
              "    </tr>\n",
              "    <tr>\n",
              "      <th>350_mu_M</th>\n",
              "      <td>0.041046</td>\n",
              "      <td>0.161896</td>\n",
              "      <td>0.000045</td>\n",
              "      <td>0.000049</td>\n",
              "    </tr>\n",
              "    <tr>\n",
              "      <th>40_mu_M</th>\n",
              "      <td>0.041046</td>\n",
              "      <td>0.161896</td>\n",
              "      <td>0.000031</td>\n",
              "      <td>0.000029</td>\n",
              "    </tr>\n",
              "    <tr>\n",
              "      <th>450_mu_M</th>\n",
              "      <td>0.041046</td>\n",
              "      <td>0.161896</td>\n",
              "      <td>0.000047</td>\n",
              "      <td>0.000053</td>\n",
              "    </tr>\n",
              "    <tr>\n",
              "      <th>500_mu_M</th>\n",
              "      <td>0.041046</td>\n",
              "      <td>0.161896</td>\n",
              "      <td>0.000049</td>\n",
              "      <td>0.000055</td>\n",
              "    </tr>\n",
              "    <tr>\n",
              "      <th>60_mu_M</th>\n",
              "      <td>0.041046</td>\n",
              "      <td>0.161896</td>\n",
              "      <td>0.000033</td>\n",
              "      <td>0.000031</td>\n",
              "    </tr>\n",
              "    <tr>\n",
              "      <th>400_mu_M</th>\n",
              "      <td>0.041046</td>\n",
              "      <td>0.161896</td>\n",
              "      <td>0.000046</td>\n",
              "      <td>0.000051</td>\n",
              "    </tr>\n",
              "    <tr>\n",
              "      <th>5_mu_M</th>\n",
              "      <td>0.041046</td>\n",
              "      <td>0.161896</td>\n",
              "      <td>0.000027</td>\n",
              "      <td>0.000026</td>\n",
              "    </tr>\n",
              "    <tr>\n",
              "      <th>600_mu_M</th>\n",
              "      <td>0.041046</td>\n",
              "      <td>0.161896</td>\n",
              "      <td>0.000051</td>\n",
              "      <td>0.000059</td>\n",
              "    </tr>\n",
              "    <tr>\n",
              "      <th>80_mu_M</th>\n",
              "      <td>0.041046</td>\n",
              "      <td>0.161896</td>\n",
              "      <td>0.000034</td>\n",
              "      <td>0.000033</td>\n",
              "    </tr>\n",
              "    <tr>\n",
              "      <th>550_mu_M</th>\n",
              "      <td>0.041046</td>\n",
              "      <td>0.161896</td>\n",
              "      <td>0.000050</td>\n",
              "      <td>0.000057</td>\n",
              "    </tr>\n",
              "    <tr>\n",
              "      <th>0.5_mu_M</th>\n",
              "      <td>0.041046</td>\n",
              "      <td>0.161896</td>\n",
              "      <td>0.000025</td>\n",
              "      <td>0.000023</td>\n",
              "    </tr>\n",
              "  </tbody>\n",
              "</table>\n",
              "</div>\n",
              "      <button class=\"colab-df-convert\" onclick=\"convertToInteractive('df-02eb97c2-8992-43c8-96ad-099390bf241d')\"\n",
              "              title=\"Convert this dataframe to an interactive table.\"\n",
              "              style=\"display:none;\">\n",
              "        \n",
              "  <svg xmlns=\"http://www.w3.org/2000/svg\" height=\"24px\"viewBox=\"0 0 24 24\"\n",
              "       width=\"24px\">\n",
              "    <path d=\"M0 0h24v24H0V0z\" fill=\"none\"/>\n",
              "    <path d=\"M18.56 5.44l.94 2.06.94-2.06 2.06-.94-2.06-.94-.94-2.06-.94 2.06-2.06.94zm-11 1L8.5 8.5l.94-2.06 2.06-.94-2.06-.94L8.5 2.5l-.94 2.06-2.06.94zm10 10l.94 2.06.94-2.06 2.06-.94-2.06-.94-.94-2.06-.94 2.06-2.06.94z\"/><path d=\"M17.41 7.96l-1.37-1.37c-.4-.4-.92-.59-1.43-.59-.52 0-1.04.2-1.43.59L10.3 9.45l-7.72 7.72c-.78.78-.78 2.05 0 2.83L4 21.41c.39.39.9.59 1.41.59.51 0 1.02-.2 1.41-.59l7.78-7.78 2.81-2.81c.8-.78.8-2.07 0-2.86zM5.41 20L4 18.59l7.72-7.72 1.47 1.35L5.41 20z\"/>\n",
              "  </svg>\n",
              "      </button>\n",
              "      \n",
              "  <style>\n",
              "    .colab-df-container {\n",
              "      display:flex;\n",
              "      flex-wrap:wrap;\n",
              "      gap: 12px;\n",
              "    }\n",
              "\n",
              "    .colab-df-convert {\n",
              "      background-color: #E8F0FE;\n",
              "      border: none;\n",
              "      border-radius: 50%;\n",
              "      cursor: pointer;\n",
              "      display: none;\n",
              "      fill: #1967D2;\n",
              "      height: 32px;\n",
              "      padding: 0 0 0 0;\n",
              "      width: 32px;\n",
              "    }\n",
              "\n",
              "    .colab-df-convert:hover {\n",
              "      background-color: #E2EBFA;\n",
              "      box-shadow: 0px 1px 2px rgba(60, 64, 67, 0.3), 0px 1px 3px 1px rgba(60, 64, 67, 0.15);\n",
              "      fill: #174EA6;\n",
              "    }\n",
              "\n",
              "    [theme=dark] .colab-df-convert {\n",
              "      background-color: #3B4455;\n",
              "      fill: #D2E3FC;\n",
              "    }\n",
              "\n",
              "    [theme=dark] .colab-df-convert:hover {\n",
              "      background-color: #434B5C;\n",
              "      box-shadow: 0px 1px 3px 1px rgba(0, 0, 0, 0.15);\n",
              "      filter: drop-shadow(0px 1px 2px rgba(0, 0, 0, 0.3));\n",
              "      fill: #FFFFFF;\n",
              "    }\n",
              "  </style>\n",
              "\n",
              "      <script>\n",
              "        const buttonEl =\n",
              "          document.querySelector('#df-02eb97c2-8992-43c8-96ad-099390bf241d button.colab-df-convert');\n",
              "        buttonEl.style.display =\n",
              "          google.colab.kernel.accessAllowed ? 'block' : 'none';\n",
              "\n",
              "        async function convertToInteractive(key) {\n",
              "          const element = document.querySelector('#df-02eb97c2-8992-43c8-96ad-099390bf241d');\n",
              "          const dataTable =\n",
              "            await google.colab.kernel.invokeFunction('convertToInteractive',\n",
              "                                                     [key], {});\n",
              "          if (!dataTable) return;\n",
              "\n",
              "          const docLinkHtml = 'Like what you see? Visit the ' +\n",
              "            '<a target=\"_blank\" href=https://colab.research.google.com/notebooks/data_table.ipynb>data table notebook</a>'\n",
              "            + ' to learn more about interactive tables.';\n",
              "          element.innerHTML = '';\n",
              "          dataTable['output_type'] = 'display_data';\n",
              "          await google.colab.output.renderOutput(dataTable, element);\n",
              "          const docLink = document.createElement('div');\n",
              "          docLink.innerHTML = docLinkHtml;\n",
              "          element.appendChild(docLink);\n",
              "        }\n",
              "      </script>\n",
              "    </div>\n",
              "  </div>\n",
              "  "
            ]
          },
          "metadata": {},
          "execution_count": 35
        }
      ]
    },
    {
      "cell_type": "code",
      "source": [
        "import re\n",
        "\n",
        "mu = '\\u03BC'\n",
        "\n",
        "def LegendNameSetter(filename):\n",
        "    if \"_mu_\" in filename:\n",
        "        for i, c in enumerate(filename):\n",
        "            if c.isdigit():\n",
        "                continue\n",
        "            if re.search(r'\\.',c):\n",
        "              continue\n",
        "            else:\n",
        "                index_of_digit = i\n",
        "                break\n",
        "\n",
        "        alpha_in_filename = filename[index_of_digit:]\n",
        "        converted_filename = filename[:index_of_digit] + mu + alpha_in_filename.strip(\"_mu_\")\n",
        "        \n",
        "        return converted_filename\n",
        "\n",
        "    elif \"_n_\" in filename:\n",
        "        for i, c in enumerate(filename):\n",
        "            if c.isdigit():\n",
        "                continue\n",
        "            if re.search(r'\\.',c):\n",
        "                continue\n",
        "            else:\n",
        "                index_of_digit = i\n",
        "                break\n",
        "\n",
        "        alpha_in_filename = filename[index_of_digit:]\n",
        "        converted_filename = filename[:index_of_digit] + 'n' + alpha_in_filename.strip(\"_n_\")\n",
        "\n",
        "        return converted_filename\n",
        "    else:\n",
        "        return filename"
      ],
      "metadata": {
        "id": "uQoAsAQMyT6U"
      },
      "execution_count": null,
      "outputs": []
    },
    {
      "cell_type": "code",
      "source": [
        "concentration_file_names = list()\n",
        "concentration_list = list()\n",
        "for i in keys_list:\n",
        "  concentration_file_names = LegendNameSetter(i)\n",
        "  concentration_list.append(concentration_file_names)\n",
        "\n",
        "concentration_list"
      ],
      "metadata": {
        "colab": {
          "base_uri": "https://localhost:8080/"
        },
        "id": "E0oqHFl6RVfr",
        "outputId": "1276fc56-0265-4b34-cee2-bbf27f7a3c84"
      },
      "execution_count": null,
      "outputs": [
        {
          "output_type": "execute_result",
          "data": {
            "text/plain": [
              "['100μM',\n",
              " '150μM',\n",
              " '10μM',\n",
              " '1μM',\n",
              " '250μM',\n",
              " '300μM',\n",
              " '20μM',\n",
              " '200μM',\n",
              " '350μM',\n",
              " '40μM',\n",
              " '450μM',\n",
              " '500μM',\n",
              " '60μM',\n",
              " '400μM',\n",
              " '5μM',\n",
              " '600μM',\n",
              " '80μM',\n",
              " '550μM',\n",
              " '0.5μM']"
            ]
          },
          "metadata": {},
          "execution_count": 42
        }
      ]
    },
    {
      "cell_type": "code",
      "source": [
        "concentration_values = [s.replace('μM','') for s in concentration_list]\n",
        "concentration_values = [float(i) for i in concentration_values]\n",
        "concentration_values"
      ],
      "metadata": {
        "colab": {
          "base_uri": "https://localhost:8080/"
        },
        "id": "yOFCarb7cmJ7",
        "outputId": "8d61572c-d3e7-4e44-e1b0-5c1e89916558"
      },
      "execution_count": null,
      "outputs": [
        {
          "output_type": "execute_result",
          "data": {
            "text/plain": [
              "[100.0,\n",
              " 150.0,\n",
              " 10.0,\n",
              " 1.0,\n",
              " 250.0,\n",
              " 300.0,\n",
              " 20.0,\n",
              " 200.0,\n",
              " 350.0,\n",
              " 40.0,\n",
              " 450.0,\n",
              " 500.0,\n",
              " 60.0,\n",
              " 400.0,\n",
              " 5.0,\n",
              " 600.0,\n",
              " 80.0,\n",
              " 550.0,\n",
              " 0.5]"
            ]
          },
          "metadata": {},
          "execution_count": 44
        }
      ]
    },
    {
      "cell_type": "code",
      "source": [
        "peak_df['Çoncentration(\\u03BCM)'] = np.array(concentration_values)\n",
        "peak_df"
      ],
      "metadata": {
        "colab": {
          "base_uri": "https://localhost:8080/",
          "height": 644
        },
        "id": "rJ_mVsSKH_eL",
        "outputId": "4a51a1aa-251d-4768-f34e-4c62e2bc805b"
      },
      "execution_count": null,
      "outputs": [
        {
          "output_type": "execute_result",
          "data": {
            "text/plain": [
              "          HQ_Peak_Potential(V)  CC_Peak_Potential(V)  HQ_Peak_Current(A)  \\\n",
              "100_mu_M              0.041046              0.161896            0.000035   \n",
              "150_mu_M              0.041046              0.161896            0.000038   \n",
              "10_mu_M               0.041046              0.161896            0.000028   \n",
              "1_mu_M                0.041046              0.161896            0.000026   \n",
              "250_mu_M              0.041046              0.161896            0.000042   \n",
              "300_mu_M              0.041046              0.161896            0.000043   \n",
              "20_mu_M               0.041046              0.161896            0.000029   \n",
              "200_mu_M              0.041046              0.161896            0.000040   \n",
              "350_mu_M              0.041046              0.161896            0.000045   \n",
              "40_mu_M               0.041046              0.161896            0.000031   \n",
              "450_mu_M              0.041046              0.161896            0.000047   \n",
              "500_mu_M              0.041046              0.161896            0.000049   \n",
              "60_mu_M               0.041046              0.161896            0.000033   \n",
              "400_mu_M              0.041046              0.161896            0.000046   \n",
              "5_mu_M                0.041046              0.161896            0.000027   \n",
              "600_mu_M              0.041046              0.161896            0.000051   \n",
              "80_mu_M               0.041046              0.161896            0.000034   \n",
              "550_mu_M              0.041046              0.161896            0.000050   \n",
              "0.5_mu_M              0.041046              0.161896            0.000025   \n",
              "\n",
              "          CC_Peak_Current(A)  Çoncentration(μM)  \n",
              "100_mu_M            0.000034              100.0  \n",
              "150_mu_M            0.000039              150.0  \n",
              "10_mu_M             0.000026               10.0  \n",
              "1_mu_M              0.000025                1.0  \n",
              "250_mu_M            0.000044              250.0  \n",
              "300_mu_M            0.000047              300.0  \n",
              "20_mu_M             0.000027               20.0  \n",
              "200_mu_M            0.000040              200.0  \n",
              "350_mu_M            0.000049              350.0  \n",
              "40_mu_M             0.000029               40.0  \n",
              "450_mu_M            0.000053              450.0  \n",
              "500_mu_M            0.000055              500.0  \n",
              "60_mu_M             0.000031               60.0  \n",
              "400_mu_M            0.000051              400.0  \n",
              "5_mu_M              0.000026                5.0  \n",
              "600_mu_M            0.000059              600.0  \n",
              "80_mu_M             0.000033               80.0  \n",
              "550_mu_M            0.000057              550.0  \n",
              "0.5_mu_M            0.000023                0.5  "
            ],
            "text/html": [
              "\n",
              "  <div id=\"df-6facf700-9a06-4ef1-b4b1-0dc01c2f04c5\">\n",
              "    <div class=\"colab-df-container\">\n",
              "      <div>\n",
              "<style scoped>\n",
              "    .dataframe tbody tr th:only-of-type {\n",
              "        vertical-align: middle;\n",
              "    }\n",
              "\n",
              "    .dataframe tbody tr th {\n",
              "        vertical-align: top;\n",
              "    }\n",
              "\n",
              "    .dataframe thead th {\n",
              "        text-align: right;\n",
              "    }\n",
              "</style>\n",
              "<table border=\"1\" class=\"dataframe\">\n",
              "  <thead>\n",
              "    <tr style=\"text-align: right;\">\n",
              "      <th></th>\n",
              "      <th>HQ_Peak_Potential(V)</th>\n",
              "      <th>CC_Peak_Potential(V)</th>\n",
              "      <th>HQ_Peak_Current(A)</th>\n",
              "      <th>CC_Peak_Current(A)</th>\n",
              "      <th>Çoncentration(μM)</th>\n",
              "    </tr>\n",
              "  </thead>\n",
              "  <tbody>\n",
              "    <tr>\n",
              "      <th>100_mu_M</th>\n",
              "      <td>0.041046</td>\n",
              "      <td>0.161896</td>\n",
              "      <td>0.000035</td>\n",
              "      <td>0.000034</td>\n",
              "      <td>100.0</td>\n",
              "    </tr>\n",
              "    <tr>\n",
              "      <th>150_mu_M</th>\n",
              "      <td>0.041046</td>\n",
              "      <td>0.161896</td>\n",
              "      <td>0.000038</td>\n",
              "      <td>0.000039</td>\n",
              "      <td>150.0</td>\n",
              "    </tr>\n",
              "    <tr>\n",
              "      <th>10_mu_M</th>\n",
              "      <td>0.041046</td>\n",
              "      <td>0.161896</td>\n",
              "      <td>0.000028</td>\n",
              "      <td>0.000026</td>\n",
              "      <td>10.0</td>\n",
              "    </tr>\n",
              "    <tr>\n",
              "      <th>1_mu_M</th>\n",
              "      <td>0.041046</td>\n",
              "      <td>0.161896</td>\n",
              "      <td>0.000026</td>\n",
              "      <td>0.000025</td>\n",
              "      <td>1.0</td>\n",
              "    </tr>\n",
              "    <tr>\n",
              "      <th>250_mu_M</th>\n",
              "      <td>0.041046</td>\n",
              "      <td>0.161896</td>\n",
              "      <td>0.000042</td>\n",
              "      <td>0.000044</td>\n",
              "      <td>250.0</td>\n",
              "    </tr>\n",
              "    <tr>\n",
              "      <th>300_mu_M</th>\n",
              "      <td>0.041046</td>\n",
              "      <td>0.161896</td>\n",
              "      <td>0.000043</td>\n",
              "      <td>0.000047</td>\n",
              "      <td>300.0</td>\n",
              "    </tr>\n",
              "    <tr>\n",
              "      <th>20_mu_M</th>\n",
              "      <td>0.041046</td>\n",
              "      <td>0.161896</td>\n",
              "      <td>0.000029</td>\n",
              "      <td>0.000027</td>\n",
              "      <td>20.0</td>\n",
              "    </tr>\n",
              "    <tr>\n",
              "      <th>200_mu_M</th>\n",
              "      <td>0.041046</td>\n",
              "      <td>0.161896</td>\n",
              "      <td>0.000040</td>\n",
              "      <td>0.000040</td>\n",
              "      <td>200.0</td>\n",
              "    </tr>\n",
              "    <tr>\n",
              "      <th>350_mu_M</th>\n",
              "      <td>0.041046</td>\n",
              "      <td>0.161896</td>\n",
              "      <td>0.000045</td>\n",
              "      <td>0.000049</td>\n",
              "      <td>350.0</td>\n",
              "    </tr>\n",
              "    <tr>\n",
              "      <th>40_mu_M</th>\n",
              "      <td>0.041046</td>\n",
              "      <td>0.161896</td>\n",
              "      <td>0.000031</td>\n",
              "      <td>0.000029</td>\n",
              "      <td>40.0</td>\n",
              "    </tr>\n",
              "    <tr>\n",
              "      <th>450_mu_M</th>\n",
              "      <td>0.041046</td>\n",
              "      <td>0.161896</td>\n",
              "      <td>0.000047</td>\n",
              "      <td>0.000053</td>\n",
              "      <td>450.0</td>\n",
              "    </tr>\n",
              "    <tr>\n",
              "      <th>500_mu_M</th>\n",
              "      <td>0.041046</td>\n",
              "      <td>0.161896</td>\n",
              "      <td>0.000049</td>\n",
              "      <td>0.000055</td>\n",
              "      <td>500.0</td>\n",
              "    </tr>\n",
              "    <tr>\n",
              "      <th>60_mu_M</th>\n",
              "      <td>0.041046</td>\n",
              "      <td>0.161896</td>\n",
              "      <td>0.000033</td>\n",
              "      <td>0.000031</td>\n",
              "      <td>60.0</td>\n",
              "    </tr>\n",
              "    <tr>\n",
              "      <th>400_mu_M</th>\n",
              "      <td>0.041046</td>\n",
              "      <td>0.161896</td>\n",
              "      <td>0.000046</td>\n",
              "      <td>0.000051</td>\n",
              "      <td>400.0</td>\n",
              "    </tr>\n",
              "    <tr>\n",
              "      <th>5_mu_M</th>\n",
              "      <td>0.041046</td>\n",
              "      <td>0.161896</td>\n",
              "      <td>0.000027</td>\n",
              "      <td>0.000026</td>\n",
              "      <td>5.0</td>\n",
              "    </tr>\n",
              "    <tr>\n",
              "      <th>600_mu_M</th>\n",
              "      <td>0.041046</td>\n",
              "      <td>0.161896</td>\n",
              "      <td>0.000051</td>\n",
              "      <td>0.000059</td>\n",
              "      <td>600.0</td>\n",
              "    </tr>\n",
              "    <tr>\n",
              "      <th>80_mu_M</th>\n",
              "      <td>0.041046</td>\n",
              "      <td>0.161896</td>\n",
              "      <td>0.000034</td>\n",
              "      <td>0.000033</td>\n",
              "      <td>80.0</td>\n",
              "    </tr>\n",
              "    <tr>\n",
              "      <th>550_mu_M</th>\n",
              "      <td>0.041046</td>\n",
              "      <td>0.161896</td>\n",
              "      <td>0.000050</td>\n",
              "      <td>0.000057</td>\n",
              "      <td>550.0</td>\n",
              "    </tr>\n",
              "    <tr>\n",
              "      <th>0.5_mu_M</th>\n",
              "      <td>0.041046</td>\n",
              "      <td>0.161896</td>\n",
              "      <td>0.000025</td>\n",
              "      <td>0.000023</td>\n",
              "      <td>0.5</td>\n",
              "    </tr>\n",
              "  </tbody>\n",
              "</table>\n",
              "</div>\n",
              "      <button class=\"colab-df-convert\" onclick=\"convertToInteractive('df-6facf700-9a06-4ef1-b4b1-0dc01c2f04c5')\"\n",
              "              title=\"Convert this dataframe to an interactive table.\"\n",
              "              style=\"display:none;\">\n",
              "        \n",
              "  <svg xmlns=\"http://www.w3.org/2000/svg\" height=\"24px\"viewBox=\"0 0 24 24\"\n",
              "       width=\"24px\">\n",
              "    <path d=\"M0 0h24v24H0V0z\" fill=\"none\"/>\n",
              "    <path d=\"M18.56 5.44l.94 2.06.94-2.06 2.06-.94-2.06-.94-.94-2.06-.94 2.06-2.06.94zm-11 1L8.5 8.5l.94-2.06 2.06-.94-2.06-.94L8.5 2.5l-.94 2.06-2.06.94zm10 10l.94 2.06.94-2.06 2.06-.94-2.06-.94-.94-2.06-.94 2.06-2.06.94z\"/><path d=\"M17.41 7.96l-1.37-1.37c-.4-.4-.92-.59-1.43-.59-.52 0-1.04.2-1.43.59L10.3 9.45l-7.72 7.72c-.78.78-.78 2.05 0 2.83L4 21.41c.39.39.9.59 1.41.59.51 0 1.02-.2 1.41-.59l7.78-7.78 2.81-2.81c.8-.78.8-2.07 0-2.86zM5.41 20L4 18.59l7.72-7.72 1.47 1.35L5.41 20z\"/>\n",
              "  </svg>\n",
              "      </button>\n",
              "      \n",
              "  <style>\n",
              "    .colab-df-container {\n",
              "      display:flex;\n",
              "      flex-wrap:wrap;\n",
              "      gap: 12px;\n",
              "    }\n",
              "\n",
              "    .colab-df-convert {\n",
              "      background-color: #E8F0FE;\n",
              "      border: none;\n",
              "      border-radius: 50%;\n",
              "      cursor: pointer;\n",
              "      display: none;\n",
              "      fill: #1967D2;\n",
              "      height: 32px;\n",
              "      padding: 0 0 0 0;\n",
              "      width: 32px;\n",
              "    }\n",
              "\n",
              "    .colab-df-convert:hover {\n",
              "      background-color: #E2EBFA;\n",
              "      box-shadow: 0px 1px 2px rgba(60, 64, 67, 0.3), 0px 1px 3px 1px rgba(60, 64, 67, 0.15);\n",
              "      fill: #174EA6;\n",
              "    }\n",
              "\n",
              "    [theme=dark] .colab-df-convert {\n",
              "      background-color: #3B4455;\n",
              "      fill: #D2E3FC;\n",
              "    }\n",
              "\n",
              "    [theme=dark] .colab-df-convert:hover {\n",
              "      background-color: #434B5C;\n",
              "      box-shadow: 0px 1px 3px 1px rgba(0, 0, 0, 0.15);\n",
              "      filter: drop-shadow(0px 1px 2px rgba(0, 0, 0, 0.3));\n",
              "      fill: #FFFFFF;\n",
              "    }\n",
              "  </style>\n",
              "\n",
              "      <script>\n",
              "        const buttonEl =\n",
              "          document.querySelector('#df-6facf700-9a06-4ef1-b4b1-0dc01c2f04c5 button.colab-df-convert');\n",
              "        buttonEl.style.display =\n",
              "          google.colab.kernel.accessAllowed ? 'block' : 'none';\n",
              "\n",
              "        async function convertToInteractive(key) {\n",
              "          const element = document.querySelector('#df-6facf700-9a06-4ef1-b4b1-0dc01c2f04c5');\n",
              "          const dataTable =\n",
              "            await google.colab.kernel.invokeFunction('convertToInteractive',\n",
              "                                                     [key], {});\n",
              "          if (!dataTable) return;\n",
              "\n",
              "          const docLinkHtml = 'Like what you see? Visit the ' +\n",
              "            '<a target=\"_blank\" href=https://colab.research.google.com/notebooks/data_table.ipynb>data table notebook</a>'\n",
              "            + ' to learn more about interactive tables.';\n",
              "          element.innerHTML = '';\n",
              "          dataTable['output_type'] = 'display_data';\n",
              "          await google.colab.output.renderOutput(dataTable, element);\n",
              "          const docLink = document.createElement('div');\n",
              "          docLink.innerHTML = docLinkHtml;\n",
              "          element.appendChild(docLink);\n",
              "        }\n",
              "      </script>\n",
              "    </div>\n",
              "  </div>\n",
              "  "
            ]
          },
          "metadata": {},
          "execution_count": 46
        }
      ]
    },
    {
      "cell_type": "code",
      "source": [
        "peak_df.sort_values(by='Çoncentration(μM)', ascending=True, inplace=True)\n",
        "peak_df"
      ],
      "metadata": {
        "colab": {
          "base_uri": "https://localhost:8080/",
          "height": 644
        },
        "id": "gOFbuT5LIe9O",
        "outputId": "4f15fa54-c4b4-40eb-8fbe-8cada37f1b9b"
      },
      "execution_count": null,
      "outputs": [
        {
          "output_type": "execute_result",
          "data": {
            "text/plain": [
              "          HQ_Peak_Potential(V)  CC_Peak_Potential(V)  HQ_Peak_Current(A)  \\\n",
              "0.5_mu_M              0.041046              0.161896            0.000025   \n",
              "1_mu_M                0.041046              0.161896            0.000026   \n",
              "5_mu_M                0.041046              0.161896            0.000027   \n",
              "10_mu_M               0.041046              0.161896            0.000028   \n",
              "20_mu_M               0.041046              0.161896            0.000029   \n",
              "40_mu_M               0.041046              0.161896            0.000031   \n",
              "60_mu_M               0.041046              0.161896            0.000033   \n",
              "80_mu_M               0.041046              0.161896            0.000034   \n",
              "100_mu_M              0.041046              0.161896            0.000035   \n",
              "150_mu_M              0.041046              0.161896            0.000038   \n",
              "200_mu_M              0.041046              0.161896            0.000040   \n",
              "250_mu_M              0.041046              0.161896            0.000042   \n",
              "300_mu_M              0.041046              0.161896            0.000043   \n",
              "350_mu_M              0.041046              0.161896            0.000045   \n",
              "400_mu_M              0.041046              0.161896            0.000046   \n",
              "450_mu_M              0.041046              0.161896            0.000047   \n",
              "500_mu_M              0.041046              0.161896            0.000049   \n",
              "550_mu_M              0.041046              0.161896            0.000050   \n",
              "600_mu_M              0.041046              0.161896            0.000051   \n",
              "\n",
              "          CC_Peak_Current(A)  Çoncentration(μM)  \n",
              "0.5_mu_M            0.000023                0.5  \n",
              "1_mu_M              0.000025                1.0  \n",
              "5_mu_M              0.000026                5.0  \n",
              "10_mu_M             0.000026               10.0  \n",
              "20_mu_M             0.000027               20.0  \n",
              "40_mu_M             0.000029               40.0  \n",
              "60_mu_M             0.000031               60.0  \n",
              "80_mu_M             0.000033               80.0  \n",
              "100_mu_M            0.000034              100.0  \n",
              "150_mu_M            0.000039              150.0  \n",
              "200_mu_M            0.000040              200.0  \n",
              "250_mu_M            0.000044              250.0  \n",
              "300_mu_M            0.000047              300.0  \n",
              "350_mu_M            0.000049              350.0  \n",
              "400_mu_M            0.000051              400.0  \n",
              "450_mu_M            0.000053              450.0  \n",
              "500_mu_M            0.000055              500.0  \n",
              "550_mu_M            0.000057              550.0  \n",
              "600_mu_M            0.000059              600.0  "
            ],
            "text/html": [
              "\n",
              "  <div id=\"df-38f8add1-614f-4a49-b582-d17435695c63\">\n",
              "    <div class=\"colab-df-container\">\n",
              "      <div>\n",
              "<style scoped>\n",
              "    .dataframe tbody tr th:only-of-type {\n",
              "        vertical-align: middle;\n",
              "    }\n",
              "\n",
              "    .dataframe tbody tr th {\n",
              "        vertical-align: top;\n",
              "    }\n",
              "\n",
              "    .dataframe thead th {\n",
              "        text-align: right;\n",
              "    }\n",
              "</style>\n",
              "<table border=\"1\" class=\"dataframe\">\n",
              "  <thead>\n",
              "    <tr style=\"text-align: right;\">\n",
              "      <th></th>\n",
              "      <th>HQ_Peak_Potential(V)</th>\n",
              "      <th>CC_Peak_Potential(V)</th>\n",
              "      <th>HQ_Peak_Current(A)</th>\n",
              "      <th>CC_Peak_Current(A)</th>\n",
              "      <th>Çoncentration(μM)</th>\n",
              "    </tr>\n",
              "  </thead>\n",
              "  <tbody>\n",
              "    <tr>\n",
              "      <th>0.5_mu_M</th>\n",
              "      <td>0.041046</td>\n",
              "      <td>0.161896</td>\n",
              "      <td>0.000025</td>\n",
              "      <td>0.000023</td>\n",
              "      <td>0.5</td>\n",
              "    </tr>\n",
              "    <tr>\n",
              "      <th>1_mu_M</th>\n",
              "      <td>0.041046</td>\n",
              "      <td>0.161896</td>\n",
              "      <td>0.000026</td>\n",
              "      <td>0.000025</td>\n",
              "      <td>1.0</td>\n",
              "    </tr>\n",
              "    <tr>\n",
              "      <th>5_mu_M</th>\n",
              "      <td>0.041046</td>\n",
              "      <td>0.161896</td>\n",
              "      <td>0.000027</td>\n",
              "      <td>0.000026</td>\n",
              "      <td>5.0</td>\n",
              "    </tr>\n",
              "    <tr>\n",
              "      <th>10_mu_M</th>\n",
              "      <td>0.041046</td>\n",
              "      <td>0.161896</td>\n",
              "      <td>0.000028</td>\n",
              "      <td>0.000026</td>\n",
              "      <td>10.0</td>\n",
              "    </tr>\n",
              "    <tr>\n",
              "      <th>20_mu_M</th>\n",
              "      <td>0.041046</td>\n",
              "      <td>0.161896</td>\n",
              "      <td>0.000029</td>\n",
              "      <td>0.000027</td>\n",
              "      <td>20.0</td>\n",
              "    </tr>\n",
              "    <tr>\n",
              "      <th>40_mu_M</th>\n",
              "      <td>0.041046</td>\n",
              "      <td>0.161896</td>\n",
              "      <td>0.000031</td>\n",
              "      <td>0.000029</td>\n",
              "      <td>40.0</td>\n",
              "    </tr>\n",
              "    <tr>\n",
              "      <th>60_mu_M</th>\n",
              "      <td>0.041046</td>\n",
              "      <td>0.161896</td>\n",
              "      <td>0.000033</td>\n",
              "      <td>0.000031</td>\n",
              "      <td>60.0</td>\n",
              "    </tr>\n",
              "    <tr>\n",
              "      <th>80_mu_M</th>\n",
              "      <td>0.041046</td>\n",
              "      <td>0.161896</td>\n",
              "      <td>0.000034</td>\n",
              "      <td>0.000033</td>\n",
              "      <td>80.0</td>\n",
              "    </tr>\n",
              "    <tr>\n",
              "      <th>100_mu_M</th>\n",
              "      <td>0.041046</td>\n",
              "      <td>0.161896</td>\n",
              "      <td>0.000035</td>\n",
              "      <td>0.000034</td>\n",
              "      <td>100.0</td>\n",
              "    </tr>\n",
              "    <tr>\n",
              "      <th>150_mu_M</th>\n",
              "      <td>0.041046</td>\n",
              "      <td>0.161896</td>\n",
              "      <td>0.000038</td>\n",
              "      <td>0.000039</td>\n",
              "      <td>150.0</td>\n",
              "    </tr>\n",
              "    <tr>\n",
              "      <th>200_mu_M</th>\n",
              "      <td>0.041046</td>\n",
              "      <td>0.161896</td>\n",
              "      <td>0.000040</td>\n",
              "      <td>0.000040</td>\n",
              "      <td>200.0</td>\n",
              "    </tr>\n",
              "    <tr>\n",
              "      <th>250_mu_M</th>\n",
              "      <td>0.041046</td>\n",
              "      <td>0.161896</td>\n",
              "      <td>0.000042</td>\n",
              "      <td>0.000044</td>\n",
              "      <td>250.0</td>\n",
              "    </tr>\n",
              "    <tr>\n",
              "      <th>300_mu_M</th>\n",
              "      <td>0.041046</td>\n",
              "      <td>0.161896</td>\n",
              "      <td>0.000043</td>\n",
              "      <td>0.000047</td>\n",
              "      <td>300.0</td>\n",
              "    </tr>\n",
              "    <tr>\n",
              "      <th>350_mu_M</th>\n",
              "      <td>0.041046</td>\n",
              "      <td>0.161896</td>\n",
              "      <td>0.000045</td>\n",
              "      <td>0.000049</td>\n",
              "      <td>350.0</td>\n",
              "    </tr>\n",
              "    <tr>\n",
              "      <th>400_mu_M</th>\n",
              "      <td>0.041046</td>\n",
              "      <td>0.161896</td>\n",
              "      <td>0.000046</td>\n",
              "      <td>0.000051</td>\n",
              "      <td>400.0</td>\n",
              "    </tr>\n",
              "    <tr>\n",
              "      <th>450_mu_M</th>\n",
              "      <td>0.041046</td>\n",
              "      <td>0.161896</td>\n",
              "      <td>0.000047</td>\n",
              "      <td>0.000053</td>\n",
              "      <td>450.0</td>\n",
              "    </tr>\n",
              "    <tr>\n",
              "      <th>500_mu_M</th>\n",
              "      <td>0.041046</td>\n",
              "      <td>0.161896</td>\n",
              "      <td>0.000049</td>\n",
              "      <td>0.000055</td>\n",
              "      <td>500.0</td>\n",
              "    </tr>\n",
              "    <tr>\n",
              "      <th>550_mu_M</th>\n",
              "      <td>0.041046</td>\n",
              "      <td>0.161896</td>\n",
              "      <td>0.000050</td>\n",
              "      <td>0.000057</td>\n",
              "      <td>550.0</td>\n",
              "    </tr>\n",
              "    <tr>\n",
              "      <th>600_mu_M</th>\n",
              "      <td>0.041046</td>\n",
              "      <td>0.161896</td>\n",
              "      <td>0.000051</td>\n",
              "      <td>0.000059</td>\n",
              "      <td>600.0</td>\n",
              "    </tr>\n",
              "  </tbody>\n",
              "</table>\n",
              "</div>\n",
              "      <button class=\"colab-df-convert\" onclick=\"convertToInteractive('df-38f8add1-614f-4a49-b582-d17435695c63')\"\n",
              "              title=\"Convert this dataframe to an interactive table.\"\n",
              "              style=\"display:none;\">\n",
              "        \n",
              "  <svg xmlns=\"http://www.w3.org/2000/svg\" height=\"24px\"viewBox=\"0 0 24 24\"\n",
              "       width=\"24px\">\n",
              "    <path d=\"M0 0h24v24H0V0z\" fill=\"none\"/>\n",
              "    <path d=\"M18.56 5.44l.94 2.06.94-2.06 2.06-.94-2.06-.94-.94-2.06-.94 2.06-2.06.94zm-11 1L8.5 8.5l.94-2.06 2.06-.94-2.06-.94L8.5 2.5l-.94 2.06-2.06.94zm10 10l.94 2.06.94-2.06 2.06-.94-2.06-.94-.94-2.06-.94 2.06-2.06.94z\"/><path d=\"M17.41 7.96l-1.37-1.37c-.4-.4-.92-.59-1.43-.59-.52 0-1.04.2-1.43.59L10.3 9.45l-7.72 7.72c-.78.78-.78 2.05 0 2.83L4 21.41c.39.39.9.59 1.41.59.51 0 1.02-.2 1.41-.59l7.78-7.78 2.81-2.81c.8-.78.8-2.07 0-2.86zM5.41 20L4 18.59l7.72-7.72 1.47 1.35L5.41 20z\"/>\n",
              "  </svg>\n",
              "      </button>\n",
              "      \n",
              "  <style>\n",
              "    .colab-df-container {\n",
              "      display:flex;\n",
              "      flex-wrap:wrap;\n",
              "      gap: 12px;\n",
              "    }\n",
              "\n",
              "    .colab-df-convert {\n",
              "      background-color: #E8F0FE;\n",
              "      border: none;\n",
              "      border-radius: 50%;\n",
              "      cursor: pointer;\n",
              "      display: none;\n",
              "      fill: #1967D2;\n",
              "      height: 32px;\n",
              "      padding: 0 0 0 0;\n",
              "      width: 32px;\n",
              "    }\n",
              "\n",
              "    .colab-df-convert:hover {\n",
              "      background-color: #E2EBFA;\n",
              "      box-shadow: 0px 1px 2px rgba(60, 64, 67, 0.3), 0px 1px 3px 1px rgba(60, 64, 67, 0.15);\n",
              "      fill: #174EA6;\n",
              "    }\n",
              "\n",
              "    [theme=dark] .colab-df-convert {\n",
              "      background-color: #3B4455;\n",
              "      fill: #D2E3FC;\n",
              "    }\n",
              "\n",
              "    [theme=dark] .colab-df-convert:hover {\n",
              "      background-color: #434B5C;\n",
              "      box-shadow: 0px 1px 3px 1px rgba(0, 0, 0, 0.15);\n",
              "      filter: drop-shadow(0px 1px 2px rgba(0, 0, 0, 0.3));\n",
              "      fill: #FFFFFF;\n",
              "    }\n",
              "  </style>\n",
              "\n",
              "      <script>\n",
              "        const buttonEl =\n",
              "          document.querySelector('#df-38f8add1-614f-4a49-b582-d17435695c63 button.colab-df-convert');\n",
              "        buttonEl.style.display =\n",
              "          google.colab.kernel.accessAllowed ? 'block' : 'none';\n",
              "\n",
              "        async function convertToInteractive(key) {\n",
              "          const element = document.querySelector('#df-38f8add1-614f-4a49-b582-d17435695c63');\n",
              "          const dataTable =\n",
              "            await google.colab.kernel.invokeFunction('convertToInteractive',\n",
              "                                                     [key], {});\n",
              "          if (!dataTable) return;\n",
              "\n",
              "          const docLinkHtml = 'Like what you see? Visit the ' +\n",
              "            '<a target=\"_blank\" href=https://colab.research.google.com/notebooks/data_table.ipynb>data table notebook</a>'\n",
              "            + ' to learn more about interactive tables.';\n",
              "          element.innerHTML = '';\n",
              "          dataTable['output_type'] = 'display_data';\n",
              "          await google.colab.output.renderOutput(dataTable, element);\n",
              "          const docLink = document.createElement('div');\n",
              "          docLink.innerHTML = docLinkHtml;\n",
              "          element.appendChild(docLink);\n",
              "        }\n",
              "      </script>\n",
              "    </div>\n",
              "  </div>\n",
              "  "
            ]
          },
          "metadata": {},
          "execution_count": 50
        }
      ]
    },
    {
      "cell_type": "code",
      "source": [
        "sns.regplot(data=peak_df, x=peak_df['Çoncentration(μM)'], y=peak_df['HQ_Peak_Current(A)'], color='red');"
      ],
      "metadata": {
        "colab": {
          "base_uri": "https://localhost:8080/",
          "height": 290
        },
        "id": "785ZfPf_JFkU",
        "outputId": "7e3c9a8e-a7ad-402c-99fe-cb6400bf378d"
      },
      "execution_count": null,
      "outputs": [
        {
          "output_type": "display_data",
          "data": {
            "text/plain": [
              "<Figure size 432x288 with 1 Axes>"
            ],
            "image/png": "[encoded data removed]"
          },
          "metadata": {
            "needs_background": "light"
          }
        }
      ]
    },
    {
      "cell_type": "code",
      "source": [
        "sns.regplot(data=peak_df, x=peak_df['Çoncentration(μM)'], y=peak_df['CC_Peak_Current(A)'], color='blue');"
      ],
      "metadata": {
        "colab": {
          "base_uri": "https://localhost:8080/",
          "height": 290
        },
        "id": "0ds2zIK-J2n3",
        "outputId": "4f61d87a-526d-4a76-f1d9-f52faf9924d5"
      },
      "execution_count": null,
      "outputs": [
        {
          "output_type": "display_data",
          "data": {
            "text/plain": [
              "<Figure size 432x288 with 1 Axes>"
            ],
            "image/png": "[encoded data removed]"
          },
          "metadata": {
            "needs_background": "light"
          }
        }
      ]
    },
    {
      "cell_type": "code",
      "source": [
        "from scipy import stats\n",
        "\n",
        "# get coeffs of linear fit\n",
        "slope, intercept, r_value, p_value, std_err = stats.linregress(peak_df['Çoncentration(μM)'], peak_df['CC_Peak_Current(A)'])\n",
        "\n",
        "# use line_kws to set line label for legend\n",
        "ax = sns.regplot(x=\"Çoncentration(μM)\", y=\"CC_Peak_Current(A)\", data=peak_df, color='b',  line_kws={'label':\"Current(A)={0:.2g}[CC]+{1:.2g}, R^2={2:.3f}\".format(slope,intercept, r_value)})\n",
        "\n",
        "# plot legend\n",
        "ax.legend(loc='upper left')\n",
        "\n",
        "plt.show()"
      ],
      "metadata": {
        "colab": {
          "base_uri": "https://localhost:8080/",
          "height": 290
        },
        "id": "GQrjhawqKzwu",
        "outputId": "e7641878-ce68-4206-a0e1-0517d92f56ac"
      },
      "execution_count": null,
      "outputs": [
        {
          "output_type": "display_data",
          "data": {
            "text/plain": [
              "<Figure size 432x288 with 1 Axes>"
            ],
            "image/png": "[encoded data removed]"
          },
          "metadata": {
            "needs_background": "light"
          }
        }
      ]
    }
  ]
}